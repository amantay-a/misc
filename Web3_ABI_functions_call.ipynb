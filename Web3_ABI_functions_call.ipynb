{
 "cells": [
  {
   "cell_type": "code",
   "execution_count": null,
   "id": "0be6243c",
   "metadata": {},
   "outputs": [],
   "source": [
    "pip install web3"
   ]
  },
  {
   "cell_type": "markdown",
   "id": "e0aea409",
   "metadata": {},
   "source": [
    "**Setup**"
   ]
  },
  {
   "cell_type": "code",
   "execution_count": 22,
   "id": "a9c03a0b",
   "metadata": {},
   "outputs": [],
   "source": [
    "from web3 import Web3\n",
    "\n",
    "#RPC Endpoint\n",
    "w3 = Web3(Web3.HTTPProvider('https://bsc-dataseed.binance.org/'))\n",
    "\n",
    "#default ABI\n",
    "abi = \"\"\"\n",
    "[ { \"constant\":true, \"inputs\":[], \"name\":\"name\", \"outputs\":[ { \"name\":\"\", \"type\":\"string\" } ], \"payable\":false, \"type\":\"function\" }, { \"constant\":true, \"inputs\":[], \"name\":\"decimals\", \"outputs\":[ { \"name\":\"\", \"type\":\"uint8\" } ], \"payable\":false, \"type\":\"function\" }, { \"constant\":true, \"inputs\":[ { \"name\":\"_owner\", \"type\":\"address\" } ], \"name\":\"balanceOf\", \"outputs\":[ { \"name\":\"balance\", \"type\":\"uint256\" } ], \"payable\":false, \"type\":\"function\" }, { \"constant\":true, \"inputs\":[], \"name\":\"symbol\", \"outputs\":[ { \"name\":\"\", \"type\":\"string\" } ], \"payable\":false, \"type\":\"function\" } ]\n",
    "\"\"\""
   ]
  },
  {
   "cell_type": "markdown",
   "id": "8039bf61",
   "metadata": {},
   "source": [
    "**Address balance**"
   ]
  },
  {
   "cell_type": "code",
   "execution_count": 28,
   "id": "a0e9c846",
   "metadata": {},
   "outputs": [
    {
     "name": "stdout",
     "output_type": "stream",
     "text": [
      "address balance=293960997786283284\n"
     ]
    }
   ],
   "source": [
    "address = Web3.toChecksumAddress('0xf6e836cf969455be060f80afbe30aeb878d01a69')\n",
    "balance = w3.eth.get_balance(address)\n",
    "print(f'address balance={balance}')"
   ]
  },
  {
   "cell_type": "markdown",
   "id": "36e44eaf",
   "metadata": {},
   "source": [
    "**Token value (LINK)**"
   ]
  },
  {
   "cell_type": "code",
   "execution_count": 31,
   "id": "65aab366",
   "metadata": {},
   "outputs": [
    {
     "name": "stdout",
     "output_type": "stream",
     "text": [
      "token name=ChainLink Token\n",
      "token value=400000000000000000\n",
      "token value(round)=0.4\n"
     ]
    }
   ],
   "source": [
    "contract_address = Web3.toChecksumAddress('0x404460c6a5ede2d891e8297795264fde62adbb75') #token address\n",
    "contract = w3.eth.contract(address=contract_address, abi=abi)\n",
    "\n",
    "token_name = contract.functions.name().call()\n",
    "print(f'token name={token_name}')\n",
    "\n",
    "value = contract.functions.balanceOf(address).call()\n",
    "print(f'token value={value}')\n",
    "decimals = contract.functions.decimals().call()\n",
    "print(f'token value(round)={value/10**decimals}')"
   ]
  },
  {
   "cell_type": "code",
   "execution_count": null,
   "id": "bbe8d321",
   "metadata": {},
   "outputs": [],
   "source": []
  }
 ],
 "metadata": {
  "kernelspec": {
   "display_name": "Python 3",
   "language": "python",
   "name": "python3"
  },
  "language_info": {
   "codemirror_mode": {
    "name": "ipython",
    "version": 3
   },
   "file_extension": ".py",
   "mimetype": "text/x-python",
   "name": "python",
   "nbconvert_exporter": "python",
   "pygments_lexer": "ipython3",
   "version": "3.8.8"
  }
 },
 "nbformat": 4,
 "nbformat_minor": 5
}
