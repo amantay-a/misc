{
 "cells": [
  {
   "cell_type": "code",
   "execution_count": 1,
   "id": "1f525c25",
   "metadata": {},
   "outputs": [],
   "source": [
    "#!pip install web3"
   ]
  },
  {
   "cell_type": "code",
   "execution_count": 2,
   "id": "d27a2a75",
   "metadata": {},
   "outputs": [],
   "source": [
    "#!pip install multicall"
   ]
  },
  {
   "cell_type": "code",
   "execution_count": 3,
   "id": "f3ef97c2",
   "metadata": {},
   "outputs": [
    {
     "name": "stdout",
     "output_type": "stream",
     "text": [
      "Ethereum connected: True\n"
     ]
    }
   ],
   "source": [
    "from web3 import Web3\n",
    "from multicall import Call, Multicall\n",
    "        \n",
    "GearboxAddressProvider = Web3.toChecksumAddress('0xcF64698AFF7E5f27A11dff868AF228653ba53be0')\n",
    "yVaultUSDC = Web3.toChecksumAddress('0xa354F35829Ae975e850e23e9615b11Da1B3dC4DE')\n",
    "\n",
    "# The dafault RPC from ethersjs, change it if it doesn't work: https://infura.io/docs\n",
    "RPC_Endpoint = 'https://mainnet.infura.io/v3/84842078b09946638c03157f83405213'\n",
    "\n",
    "ABI = \"\"\"[{\"name\":\"getAccountFactory\",\n",
    "           \"inputs\":[],\n",
    "           \"outputs\":[{\"internalType\":\"address\",\"name\":\"\",\"type\":\"address\"}],\n",
    "           \"stateMutability\":\"view\",\"type\":\"function\"},\n",
    "          {\"name\":\"countCreditAccounts\",\n",
    "           \"inputs\":[],\n",
    "           \"outputs\":[{\"internalType\":\"uint256\",\"name\":\"\",\"type\":\"uint256\"}],\n",
    "           \"stateMutability\":\"view\",\"type\":\"function\"},\n",
    "          {\"name\":\"decimals\",\n",
    "           \"inputs\":[],\n",
    "           \"outputs\":[{\"name\":\"\",\"type\":\"uint256\"}],\n",
    "           \"stateMutability\":\"view\",\"type\":\"function\"\n",
    "           }\n",
    "          ]\n",
    "      \"\"\"\n",
    "\n",
    "def chunks(lst, n):\n",
    "    \"\"\"Yield successive n-sized chunks from lst.\"\"\"\n",
    "    for i in range(0, len(lst), n):\n",
    "        yield lst[i:i + n]\n",
    "\n",
    "w3_eth = Web3(Web3.HTTPProvider(RPC_Endpoint, request_kwargs={'timeout': 20}))\n",
    "print ('Ethereum connected:', w3_eth.isConnected())"
   ]
  },
  {
   "cell_type": "code",
   "execution_count": 4,
   "id": "118adf22",
   "metadata": {},
   "outputs": [
    {
     "name": "stdout",
     "output_type": "stream",
     "text": [
      "AccountFactory: 0x444CD42BaEdDEB707eeD823f7177b9ABcC779C04\n",
      "countCreditAccounts: 5001\n",
      "yVaultUSDC_decimals: 6\n"
     ]
    }
   ],
   "source": [
    "AccountFactory = w3_eth.eth.contract(address=GearboxAddressProvider, abi=ABI).functions.getAccountFactory().call()\n",
    "print('AccountFactory:', AccountFactory)\n",
    "\n",
    "countCreditAccounts = w3_eth.eth.contract(address=AccountFactory, abi=ABI).functions.countCreditAccounts().call()\n",
    "print('countCreditAccounts:', countCreditAccounts)\n",
    "\n",
    "yVaultUSDC_decimals = w3_eth.eth.contract(address=yVaultUSDC, abi=ABI).functions.decimals().call()\n",
    "print('yVaultUSDC_decimals:', yVaultUSDC_decimals)\n"
   ]
  },
  {
   "cell_type": "code",
   "execution_count": 5,
   "id": "654baf12",
   "metadata": {},
   "outputs": [],
   "source": [
    "idList = list(range(countCreditAccounts))\n",
    "multi_idCA = {}\n",
    "\n",
    "for ids in list(chunks(idList, 400)): #chunk size for multicall = 400\n",
    "    #d_ca = get_data_multicall(df.loc[id_range], 'creditAccounts', df_abi, AccountFactory)\n",
    "    multi_result = Multicall([\n",
    "                    Call(AccountFactory, ['creditAccounts(uint256)(address)', x], [[x, Web3.toChecksumAddress]]) for x in ids\n",
    "                    ]\n",
    "                    ,_w3 = w3_eth)\n",
    "    \n",
    "    multi_result = multi_result()\n",
    "    multi_idCA.update(multi_result)\n",
    "    "
   ]
  },
  {
   "cell_type": "code",
   "execution_count": 6,
   "id": "dd7c6380",
   "metadata": {},
   "outputs": [],
   "source": [
    "#display(multi_idCA)"
   ]
  },
  {
   "cell_type": "code",
   "execution_count": 7,
   "id": "99bebcd5",
   "metadata": {},
   "outputs": [],
   "source": [
    "multi_idBalance = {}\n",
    "for ids in list(chunks(list(multi_idCA), 400)): #chunk size for multicall = 400\n",
    "    multi_result = Multicall([\n",
    "                    Call(yVaultUSDC, ['balanceOf(address)(uint256)', multi_idCA[x]], [[x, None]]) for x in ids\n",
    "                    ]\n",
    "                    ,_w3 = w3_eth)\n",
    "    \n",
    "    multi_result = multi_result()\n",
    "    multi_idBalance.update(multi_result)\n"
   ]
  },
  {
   "cell_type": "code",
   "execution_count": 8,
   "id": "641902b2",
   "metadata": {},
   "outputs": [],
   "source": [
    "#display(multi_idBalance)"
   ]
  },
  {
   "cell_type": "code",
   "execution_count": 9,
   "id": "f2d87e80",
   "metadata": {},
   "outputs": [],
   "source": [
    "multi_CA = {multi_idCA[x]:multi_idBalance[x] for x in multi_idCA}\n",
    "#display(multi_CA)"
   ]
  },
  {
   "cell_type": "code",
   "execution_count": 10,
   "id": "2ec615e9",
   "metadata": {},
   "outputs": [
    {
     "data": {
      "text/plain": [
       "{'0xfBA6b8817699cc4B90983887F3B96579f366bd5a': 36823268679,\n",
       " '0x9b7249E6D6fdd05295d8E5ef68a1068dec1A6d07': 1,\n",
       " '0x7a2f98848C626815d93957c1D2637fCE7cCa9fC0': 39799123570,\n",
       " '0x8e996336FEe5CE8F6BC3AfD68e5b40f6Cef8cb87': 3952079976,\n",
       " '0xfD96Bc2034061e0E02bbB534B4c99C0FED30160D': 39776257801,\n",
       " '0xE5AAe8E98607fE92C04e09AD023bcF9dD91999C5': 39655792262,\n",
       " '0x9dE7BE4057872Af76a6C3eae5FF1219cce9adAB9': 40691007865,\n",
       " '0x60c230b831eeF255Dad4d5244170E98B8F361C21': 3969974252,\n",
       " '0xd7FD97d43f790F87bc62A3B3979Df20DE6DDEB2A': 128970198740,\n",
       " '0x16cF8A14a0B20e4150F25D7b8e42b653Ef5bca30': 39332161711,\n",
       " '0xAB2d65eA191313AEFCD0C48A6f7D6b20852bAE0C': 40785830856,\n",
       " '0xaBBd655b3791175113c1f1146D3B369494A2b815': 39639734244,\n",
       " '0x5dBCFABBa5482206FfaE8446ae00ce22CA767e46': 19302346058,\n",
       " '0x9554E3C31Aa1e2cd43C79C7Fed4d166B39a1aaf6': 39554918657,\n",
       " '0x1F95B6AC9BaCcCAF7121152b704D6b3820A81f32': 16037508788}"
      ]
     },
     "execution_count": 10,
     "metadata": {},
     "output_type": "execute_result"
    }
   ],
   "source": [
    "#only with existing balance\n",
    "{key:value for key, value in multi_CA.items() if value > 0}"
   ]
  },
  {
   "cell_type": "code",
   "execution_count": 11,
   "id": "bf5bc4f5",
   "metadata": {},
   "outputs": [
    {
     "data": {
      "text/plain": [
       "{'0xfBA6b8817699cc4B90983887F3B96579f366bd5a': 36823.268679,\n",
       " '0x9b7249E6D6fdd05295d8E5ef68a1068dec1A6d07': 1e-06,\n",
       " '0x7a2f98848C626815d93957c1D2637fCE7cCa9fC0': 39799.123569999996,\n",
       " '0x8e996336FEe5CE8F6BC3AfD68e5b40f6Cef8cb87': 3952.079976,\n",
       " '0xfD96Bc2034061e0E02bbB534B4c99C0FED30160D': 39776.257801,\n",
       " '0xE5AAe8E98607fE92C04e09AD023bcF9dD91999C5': 39655.792261999995,\n",
       " '0x9dE7BE4057872Af76a6C3eae5FF1219cce9adAB9': 40691.007865,\n",
       " '0x60c230b831eeF255Dad4d5244170E98B8F361C21': 3969.974252,\n",
       " '0xd7FD97d43f790F87bc62A3B3979Df20DE6DDEB2A': 128970.19873999999,\n",
       " '0x16cF8A14a0B20e4150F25D7b8e42b653Ef5bca30': 39332.161711,\n",
       " '0xAB2d65eA191313AEFCD0C48A6f7D6b20852bAE0C': 40785.830856,\n",
       " '0xaBBd655b3791175113c1f1146D3B369494A2b815': 39639.734244,\n",
       " '0x5dBCFABBa5482206FfaE8446ae00ce22CA767e46': 19302.346058,\n",
       " '0x9554E3C31Aa1e2cd43C79C7Fed4d166B39a1aaf6': 39554.918656999995,\n",
       " '0x1F95B6AC9BaCcCAF7121152b704D6b3820A81f32': 16037.508788}"
      ]
     },
     "execution_count": 11,
     "metadata": {},
     "output_type": "execute_result"
    }
   ],
   "source": [
    "#decimal values\n",
    "{key:value*10**(-yVaultUSDC_decimals) for key, value in multi_CA.items() if value > 0}"
   ]
  },
  {
   "cell_type": "code",
   "execution_count": null,
   "id": "9d513ed0",
   "metadata": {},
   "outputs": [],
   "source": []
  }
 ],
 "metadata": {
  "kernelspec": {
   "display_name": "Python 3 (ipykernel)",
   "language": "python",
   "name": "python3"
  },
  "language_info": {
   "codemirror_mode": {
    "name": "ipython",
    "version": 3
   },
   "file_extension": ".py",
   "mimetype": "text/x-python",
   "name": "python",
   "nbconvert_exporter": "python",
   "pygments_lexer": "ipython3",
   "version": "3.9.7"
  }
 },
 "nbformat": 4,
 "nbformat_minor": 5
}
