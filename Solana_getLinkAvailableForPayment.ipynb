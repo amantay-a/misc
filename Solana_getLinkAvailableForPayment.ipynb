{
 "cells": [
  {
   "cell_type": "code",
   "execution_count": 5,
   "id": "3e9c11bb",
   "metadata": {},
   "outputs": [],
   "source": [
    "#!pip install anchorpy"
   ]
  },
  {
   "cell_type": "markdown",
   "id": "b948b01d",
   "metadata": {},
   "source": [
    "Python implementation the the publicly available code https://github.com/smartcontractkit/chainlink-solana/blob/1f5ccb696af9eaa00c214433d722fd2771b16d1b/pkg/monitoring/source_envelope.go#L126\n",
    "    "
   ]
  },
  {
   "cell_type": "code",
   "execution_count": 3,
   "id": "f51de7bd",
   "metadata": {},
   "outputs": [],
   "source": [
    "import asyncio\n",
    "import os\n",
    "import requests\n",
    "import json\n",
    "import logging\n",
    "from anchorpy import Provider, Wallet, Program\n",
    "from solana.publickey import PublicKey\n",
    "from solana.rpc.async_api import AsyncClient\n",
    "\n",
    "RPC_Endpoint = 'https://api.mainnet-beta.solana.com'\n",
    "program_id = \"cjg3oHmg9uuPsP8D6g29NWvhySJkdYdAo9D25PRbKXJ\"\n",
    "\n",
    "async def get_state(address, program_id, provider_uris):\n",
    "    \"\"\"Fetch IDL file from the chain\"\"\"\n",
    "    for index, provider_uri in enumerate(provider_uris):\n",
    "        try:\n",
    "            logging.info(f\"Trying uri {provider_uri}\")\n",
    "            client = AsyncClient(provider_uri)\n",
    "            provider = Provider(client, Wallet.dummy())\n",
    "            program_id_key = PublicKey(program_id)\n",
    "            \n",
    "            program = await Program.at(program_id_key, provider)\n",
    "            logging.debug(program.idl)\n",
    "            \n",
    "            address_state = await program.account['State'].fetch(address)\n",
    "            logging.debug(address_state)\n",
    "            \n",
    "            await program.close()\n",
    "\n",
    "            return address_state\n",
    "        except Exception as e:\n",
    "            if index < (len(provider_uris) - 1):\n",
    "                logging.exception(\"An exception occurred. Trying another uri\")\n",
    "            else:\n",
    "                await program.close()\n",
    "                raise e\n",
    "\n",
    "def getTokenAccountBalance(token_vault, provider_uri):\n",
    "    data =   {\n",
    "        \"jsonrpc\": \"2.0\",\n",
    "        \"id\": 1,\n",
    "        \"method\": \"getTokenAccountBalance\",\n",
    "        \"params\": [\n",
    "          str(token_vault),\n",
    "                {\n",
    "                \"commitment\": \"finalized\",\n",
    "                \"encoding\":\"jsonParsed\"\n",
    "              } \n",
    "        ]\n",
    "      }\n",
    "    headers = {\"Content-Type\": \"application/json\"}\n",
    "\n",
    "    ret = requests.post(provider_uri, data=json.dumps(data), headers=headers)\n",
    "    ret = json.loads(ret.text)\n",
    "    if 'result' in ret:\n",
    "        ret = ret['result']['value'][\"amount\"]\n",
    "    else:\n",
    "        ret = 0\n",
    "    return ret\n",
    "\n",
    "async def getLinkAvailableForPayment(address, program_id, provider_uri):\n",
    "    try:\n",
    "        state = await get_state(address, program_id, [provider_uri])\n",
    "    except:\n",
    "        state = None\n",
    "        \n",
    "    remaining = None     \n",
    "    if state:\n",
    "        countUnpaidRounds, reimbursements = 0, 0\n",
    "        for oracle in state.oracles.xs:\n",
    "            numRounds = int(state.config.latest_aggregator_round_id) - int(oracle.from_round_id)\n",
    "            if numRounds < 0:\n",
    "                numRounds = 0\n",
    "\n",
    "            countUnpaidRounds += int(numRounds)\n",
    "            reimbursements += oracle.payment_gjuels\n",
    "\n",
    "        linkBalance = getTokenAccountBalance(state.config.token_vault, provider_uri)\n",
    "        logging.info(f'linkBalance {linkBalance}')\n",
    "        if linkBalance:\n",
    "            amountDue = (state.config.billing.observation_payment_gjuels)*countUnpaidRounds + reimbursements\n",
    "            logging.info(f'amountDue {amountDue}')\n",
    "            remaining = int(linkBalance) - amountDue  \n",
    "            \n",
    "    return remaining\n"
   ]
  },
  {
   "cell_type": "code",
   "execution_count": 4,
   "id": "0b8b8bed",
   "metadata": {},
   "outputs": [
    {
     "name": "stderr",
     "output_type": "stream",
     "text": [
      "2022-05-26 09:13:a51 get_state INFO Trying uri https://api.mainnet-beta.solana.com\n",
      "2022-05-26 09:13:a53 getLinkAvailableForPayment INFO linkBalance 1100010001000\n",
      "2022-05-26 09:13:a53 getLinkAvailableForPayment INFO amountDue 235676888353831000\n",
      "2022-05-26 09:13:a53 <module> INFO LinkAvailableForPayment -235675788343830000\n"
     ]
    }
   ],
   "source": [
    "if __name__ == '__main__':\n",
    "    logging.basicConfig(\n",
    "                format='%(asctime)s %(funcName)s %(levelname)s %(message)s',\n",
    "                level=os.environ.get('LOGLEVEL', 'INFO').upper(),\n",
    "                datefmt='%Y-%m-%d %H:%M:a%S',\n",
    "                )\n",
    "    LinkAvailableForPayment = await getLinkAvailableForPayment(\n",
    "                                    \"6Ho7WLD9QiZLy25Te67wxTyP1C68FzumNa1ZuUKafYad\",\n",
    "                                     program_id,\n",
    "                                     RPC_Endpoint, \n",
    "                                    )\n",
    "    logging.info(f'LinkAvailableForPayment {LinkAvailableForPayment}')"
   ]
  },
  {
   "cell_type": "code",
   "execution_count": null,
   "id": "c493752f",
   "metadata": {},
   "outputs": [],
   "source": []
  }
 ],
 "metadata": {
  "kernelspec": {
   "display_name": "Python 3 (ipykernel)",
   "language": "python",
   "name": "python3"
  },
  "language_info": {
   "codemirror_mode": {
    "name": "ipython",
    "version": 3
   },
   "file_extension": ".py",
   "mimetype": "text/x-python",
   "name": "python",
   "nbconvert_exporter": "python",
   "pygments_lexer": "ipython3",
   "version": "3.9.7"
  }
 },
 "nbformat": 4,
 "nbformat_minor": 5
}
