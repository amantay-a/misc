{
 "cells": [
  {
   "cell_type": "code",
   "execution_count": 1,
   "id": "2f2d0539",
   "metadata": {},
   "outputs": [],
   "source": [
    "import logging\n",
    "from web3 import Web3\n",
    "\n",
    "from uniswap_utils import getPoolPrice #https://github.com/amantay-a/misc/blob/master/uniswap_utils.py\n",
    "\n",
    "######### Enable logging for debug\n",
    "#logging.basicConfig(\n",
    "#        format='%(asctime)s %(levelname)-8s %(message)s',\n",
    "#        level='INFO',\n",
    "#        datefmt='%Y-%m-%d %H:%M:%S',\n",
    "#        )\n",
    "\n",
    "# To be able to call historical prices, RPC must support archive mode, suggest using alchemy as it provide archive rpc for free\n",
    "RPCEndpoint = 'https://mainnet.infura.io/v3/84842078b09946638c03157f83405213'\n",
    "\n",
    "w3 = Web3(Web3.HTTPProvider(RPCEndpoint, request_kwargs={'timeout': 20}))\n",
    "logging.info(f'Blockchain connected: {w3.isConnected()}')\n"
   ]
  },
  {
   "cell_type": "markdown",
   "id": "5aa3fa2f",
   "metadata": {},
   "source": [
    "# Pull actual TWAPS (by default 1min, 5min, 10 min, 1hour)"
   ]
  },
  {
   "cell_type": "code",
   "execution_count": 2,
   "id": "93845576",
   "metadata": {},
   "outputs": [
    {
     "data": {
      "text/plain": [
       "{'latest': {'0xC02aaA39b223FE8D0A0e5C4F27eAD9083C756Cc2-0xA0b86991c6218b36c1d19D4a2e9Eb0cE3606eB48': {'pool': '0x8ad599c3A0ff1De082011EFDDc58f1908eb6e6D8',\n",
       "   'twap': {60: 2997.405546103503,\n",
       "    300: 2997.405546103503,\n",
       "    600: 2997.405546103503,\n",
       "    3600: 3009.008760000287}}}}"
      ]
     },
     "metadata": {},
     "output_type": "display_data"
    }
   ],
   "source": [
    "price_dict = getPoolPrice(w3, \n",
    "                          tokensA = {'0xC02aaA39b223FE8D0A0e5C4F27eAD9083C756Cc2'},  #WETH \n",
    "                          tokensB = {'0xA0b86991c6218b36c1d19D4a2e9Eb0cE3606eB48'}, #USDC\n",
    "                         )\n",
    "display(price_dict)"
   ]
  },
  {
   "cell_type": "markdown",
   "id": "f5bd9d09",
   "metadata": {},
   "source": [
    "# Pull TWAPS for past blocks, specify TWAP windows, and fees parameter for pool search"
   ]
  },
  {
   "cell_type": "code",
   "execution_count": 3,
   "id": "ad8f6262",
   "metadata": {},
   "outputs": [
    {
     "data": {
      "text/plain": [
       "{13000000: {'0x2260FAC5E5542a773Aa44fBCfeDf7C193bc2C599-0xC02aaA39b223FE8D0A0e5C4F27eAD9083C756Cc2': {'pool': '0x6Ab3bba2F41e7eAA262fa5A1A9b3932fA161526F',\n",
       "   'twap': {900: 14.468360064157906, 1200: 14.468360064157906}},\n",
       "  '0xA0b86991c6218b36c1d19D4a2e9Eb0cE3606eB48-0xC02aaA39b223FE8D0A0e5C4F27eAD9083C756Cc2': {'pool': '0x7BeA39867e4169DBe237d55C8242a8f2fcDcc387',\n",
       "   'twap': {900: 0.0003162113636405211, 1200: 0.0003165254226343278}}},\n",
       " 14000000: {'0x2260FAC5E5542a773Aa44fBCfeDf7C193bc2C599-0xC02aaA39b223FE8D0A0e5C4F27eAD9083C756Cc2': {'pool': '0x6Ab3bba2F41e7eAA262fa5A1A9b3932fA161526F',\n",
       "   'twap': {900: 13.111230137677282, 1200: 13.111230137677282}},\n",
       "  '0xA0b86991c6218b36c1d19D4a2e9Eb0cE3606eB48-0xC02aaA39b223FE8D0A0e5C4F27eAD9083C756Cc2': {'pool': '0x7BeA39867e4169DBe237d55C8242a8f2fcDcc387',\n",
       "   'twap': {900: 0.0003056719772341306, 1200: 0.0003056719772341306}}}}"
      ]
     },
     "metadata": {},
     "output_type": "display_data"
    }
   ],
   "source": [
    "price_dict = getPoolPrice(w3, \n",
    "                          tokensA = {'0xA0b86991c6218b36c1d19D4a2e9Eb0cE3606eB48', #USDC\n",
    "                                     '0x2260FAC5E5542a773Aa44fBCfeDf7C193bc2C599' #WBTC\n",
    "                                      }, \n",
    "                          tokensB = {'0xC02aaA39b223FE8D0A0e5C4F27eAD9083C756Cc2'}, #WETH \n",
    "                          TWAPWindows = [60*15, 60*20], #15min and 20 min TWAP\n",
    "                          blocks = [13000000, 14000000],\n",
    "                          PoolFee = 0.01 # Look for pools with 1% fee (default 0.3%)\n",
    "                         )\n",
    "\n",
    "display(price_dict)"
   ]
  },
  {
   "cell_type": "code",
   "execution_count": null,
   "id": "a82a302d",
   "metadata": {},
   "outputs": [],
   "source": []
  },
  {
   "cell_type": "code",
   "execution_count": null,
   "id": "69a23e52",
   "metadata": {},
   "outputs": [],
   "source": []
  }
 ],
 "metadata": {
  "kernelspec": {
   "display_name": "Python 3 (ipykernel)",
   "language": "python",
   "name": "python3"
  },
  "language_info": {
   "codemirror_mode": {
    "name": "ipython",
    "version": 3
   },
   "file_extension": ".py",
   "mimetype": "text/x-python",
   "name": "python",
   "nbconvert_exporter": "python",
   "pygments_lexer": "ipython3",
   "version": "3.9.7"
  }
 },
 "nbformat": 4,
 "nbformat_minor": 5
}
