{
 "cells": [
  {
   "cell_type": "code",
   "execution_count": 4,
   "id": "2f2d0539",
   "metadata": {},
   "outputs": [],
   "source": [
    "import logging\n",
    "from web3 import Web3\n",
    "\n",
    "from uniswap_utils import getPoolPrice #https://github.com/amantay-a/misc/blob/master/uniswap_utils.py\n",
    "\n",
    "######### Enable logging for debug\n",
    "#logging.basicConfig(\n",
    "#        format='%(asctime)s %(levelname)-8s %(message)s',\n",
    "#        level='INFO',\n",
    "#        datefmt='%Y-%m-%d %H:%M:%S',\n",
    "#        )\n",
    "\n",
    "# To be able to call historical prices, RPC must support archive mode, suggest using alchemy as it provide archive rpc for free\n",
    "RPCEndpoint = 'https://mainnet.infura.io/v3/84842078b09946638c03157f83405213'\n",
    "\n",
    "w3 = Web3(Web3.HTTPProvider(RPCEndpoint, request_kwargs={'timeout': 20}))\n",
    "logging.info(f'Blockchain connected: {w3.isConnected()}')\n"
   ]
  },
  {
   "cell_type": "markdown",
   "id": "5aa3fa2f",
   "metadata": {},
   "source": [
    "# Pull actual TWAPS (by default 1min, 5min, 10 min, 1hour)"
   ]
  },
  {
   "cell_type": "code",
   "execution_count": 2,
   "id": "93845576",
   "metadata": {},
   "outputs": [
    {
     "data": {
      "text/plain": [
       "{'latest': [{'pool': '0x8ad599c3A0ff1De082011EFDDc58f1908eb6e6D8',\n",
       "   'PoolFee': 3000,\n",
       "   'twap': {60: 2929.548282813806,\n",
       "    300: 2929.548282813806,\n",
       "    600: 2929.548282813806,\n",
       "    3600: 2933.4703641719534}},\n",
       "  {'pool': '0x7BeA39867e4169DBe237d55C8242a8f2fcDcc387',\n",
       "   'PoolFee': 10000,\n",
       "   'twap': {60: 2948.6514094176287,\n",
       "    300: 2948.6514094176287,\n",
       "    600: 2948.6514094176287,\n",
       "    3600: 2948.6514094176287}}]}"
      ]
     },
     "metadata": {},
     "output_type": "display_data"
    }
   ],
   "source": [
    "price_dict = getPoolPrice(w3, \n",
    "                          tokenA = '0xC02aaA39b223FE8D0A0e5C4F27eAD9083C756Cc2',  #WETH \n",
    "                          tokenB = '0xA0b86991c6218b36c1d19D4a2e9Eb0cE3606eB48', #USDC\n",
    "                         )\n",
    "display(price_dict)"
   ]
  },
  {
   "cell_type": "markdown",
   "id": "f5bd9d09",
   "metadata": {},
   "source": [
    "# Pull TWAPS for past blocks, specify TWAP windows, and fees parameter for pool search"
   ]
  },
  {
   "cell_type": "code",
   "execution_count": 7,
   "id": "ad8f6262",
   "metadata": {},
   "outputs": [
    {
     "data": {
      "text/plain": [
       "{13000000: [{'pool': '0xCBCdF9626bC03E24f779434178A73a0B4bad62eD',\n",
       "   'PoolFee': 3000,\n",
       "   'twap': {900: 14.43223614387738, 1200: 14.43223614387738}}],\n",
       " 14000000: [{'pool': '0xCBCdF9626bC03E24f779434178A73a0B4bad62eD',\n",
       "   'PoolFee': 3000,\n",
       "   'twap': {900: 13.069851586855126, 1200: 13.069397803130965}}]}"
      ]
     },
     "metadata": {},
     "output_type": "display_data"
    }
   ],
   "source": [
    "price_dict = getPoolPrice(w3, \n",
    "                          tokenA = '0x2260FAC5E5542a773Aa44fBCfeDf7C193bc2C599', #WBTC\n",
    "                          tokenB = '0xC02aaA39b223FE8D0A0e5C4F27eAD9083C756Cc2', #WETH \n",
    "                          TWAPWindows = [60*15, 60*20], #15min and 20 min TWAP\n",
    "                          blocks = [13000000, 14000000],\n",
    "                          PoolFees = [3000] # Look for pools with 0.3% fee only (default is both 0.3% and 1%)\n",
    "                         )\n",
    "\n",
    "display(price_dict)"
   ]
  },
  {
   "cell_type": "code",
   "execution_count": null,
   "id": "a82a302d",
   "metadata": {},
   "outputs": [],
   "source": []
  },
  {
   "cell_type": "code",
   "execution_count": null,
   "id": "69a23e52",
   "metadata": {},
   "outputs": [],
   "source": []
  }
 ],
 "metadata": {
  "kernelspec": {
   "display_name": "Python 3 (ipykernel)",
   "language": "python",
   "name": "python3"
  },
  "language_info": {
   "codemirror_mode": {
    "name": "ipython",
    "version": 3
   },
   "file_extension": ".py",
   "mimetype": "text/x-python",
   "name": "python",
   "nbconvert_exporter": "python",
   "pygments_lexer": "ipython3",
   "version": "3.9.7"
  }
 },
 "nbformat": 4,
 "nbformat_minor": 5
}
