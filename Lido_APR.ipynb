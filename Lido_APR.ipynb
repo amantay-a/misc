{
 "cells": [
  {
   "cell_type": "code",
   "execution_count": 1,
   "metadata": {},
   "outputs": [],
   "source": [
    "from datetime import datetime\n",
    "from web3 import Web3"
   ]
  },
  {
   "cell_type": "code",
   "execution_count": 2,
   "metadata": {},
   "outputs": [
    {
     "name": "stdout",
     "output_type": "stream",
     "text": [
      "Ethereum connected: True\n"
     ]
    }
   ],
   "source": [
    "# The dafault RPC from ethersjs, change it if it doesn't work: https://infura.io/docs\n",
    "RPC_Endpoint = 'https://mainnet.infura.io/v3/84842078b09946638c03157f83405213'\n",
    "\n",
    "w3_eth = Web3(Web3.HTTPProvider(RPC_Endpoint, request_kwargs={'timeout': 20}))\n",
    "print ('Ethereum connected:', w3_eth.isConnected())"
   ]
  },
  {
   "cell_type": "code",
   "execution_count": 3,
   "metadata": {},
   "outputs": [
    {
     "name": "stdout",
     "output_type": "stream",
     "text": [
      "APR minus Lido fee = 0.03894659476974834\n"
     ]
    }
   ],
   "source": [
    "#https://docs.lido.fi/contracts/lido-oracle\n",
    "LidoFee = 0.1\n",
    "LidoOracle = Web3.toChecksumAddress('0x442af784A788A5bd6F42A01Ebe9F287a871243fb')\n",
    "LidoOracle_abi = \"\"\"[{\"constant\":true,\n",
    "                    \"inputs\":[],\n",
    "                    \"name\":\"getLastCompletedReportDelta\",\n",
    "                    \"outputs\":[{\"name\":\"postTotalPooledEther\",\"type\":\"uint256\"},\n",
    "                               {\"name\":\"preTotalPooledEther\",\"type\":\"uint256\"},\n",
    "                               {\"name\":\"timeElapsed\",\"type\":\"uint256\"}],\n",
    "                    \"payable\":false,\n",
    "                    \"stateMutability\":\"view\",\n",
    "                    \"type\":\"function\"}\n",
    "                    ]\n",
    "                \"\"\"\n",
    "getLastCompletedReportDelta = w3_eth.eth.contract(address=LidoOracle, abi=LidoOracle_abi).functions.getLastCompletedReportDelta().call()\n",
    "\n",
    "postTotalPooledEther = getLastCompletedReportDelta[0]\n",
    "preTotalPooledEther  = getLastCompletedReportDelta[1]\n",
    "timeElapsed          = getLastCompletedReportDelta[2]\n",
    "\n",
    "ThisYear             = datetime.now().year                                \n",
    "if ThisYear%4==0: #Leap year\n",
    "    secondsInYear = 60*60*24*366\n",
    "else:\n",
    "    secondsInYear = 60*60*24*365\n",
    "\n",
    "Lido_APR = (postTotalPooledEther - preTotalPooledEther) * secondsInYear / (preTotalPooledEther * timeElapsed)\n",
    "Lido_APR = Lido_APR*(1-LidoFee)\n",
    "print(\"APR minus Lido fee =\", Lido_APR)"
   ]
  },
  {
   "cell_type": "code",
   "execution_count": null,
   "metadata": {},
   "outputs": [],
   "source": []
  }
 ],
 "metadata": {
  "kernelspec": {
   "display_name": "Python 3",
   "language": "python",
   "name": "python3"
  },
  "language_info": {
   "codemirror_mode": {
    "name": "ipython",
    "version": 3
   },
   "file_extension": ".py",
   "mimetype": "text/x-python",
   "name": "python",
   "nbconvert_exporter": "python",
   "pygments_lexer": "ipython3",
   "version": "3.8.5"
  }
 },
 "nbformat": 4,
 "nbformat_minor": 4
}
