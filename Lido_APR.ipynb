{
 "cells": [
  {
   "cell_type": "code",
   "execution_count": 1,
   "id": "a7fb9c66",
   "metadata": {},
   "outputs": [],
   "source": [
    "#!pip install web3"
   ]
  },
  {
   "cell_type": "code",
   "execution_count": 2,
   "id": "60286e81",
   "metadata": {},
   "outputs": [],
   "source": [
    "from datetime import datetime\n",
    "from web3 import Web3"
   ]
  },
  {
   "cell_type": "code",
   "execution_count": 3,
   "id": "7c9b0b19",
   "metadata": {},
   "outputs": [
    {
     "name": "stdout",
     "output_type": "stream",
     "text": [
      "Ethereum connected: True\n"
     ]
    }
   ],
   "source": [
    "# The dafault RPC from ethersjs, change it if it doesn't work: https://infura.io/docs\n",
    "RPC_Endpoint = 'https://mainnet.infura.io/v3/84842078b09946638c03157f83405213'\n",
    "\n",
    "w3_eth = Web3(Web3.HTTPProvider(RPC_Endpoint, request_kwargs={'timeout': 20}))\n",
    "print ('Ethereum connected:', w3_eth.isConnected())"
   ]
  },
  {
   "cell_type": "code",
   "execution_count": 4,
   "id": "b0cdeec4",
   "metadata": {},
   "outputs": [
    {
     "name": "stdout",
     "output_type": "stream",
     "text": [
      "postTotalPooledEther = 3135350687202997257325792 preTotalPooledEther = 3134979007577366257325792 timeElapsed = 86400 secondsInYear = 31536000\n",
      "Lido APR = 0.04327399418860927\n",
      "LidoFee = 0.1\n",
      "Lido APR minus Lido fee = 0.03894659476974834\n"
     ]
    }
   ],
   "source": [
    "#https://docs.lido.fi/contracts/lido-oracle\n",
    "LidoFee = 0.1\n",
    "LidoOracle = Web3.toChecksumAddress('0x442af784A788A5bd6F42A01Ebe9F287a871243fb')\n",
    "stETH = Web3.toChecksumAddress('0xae7ab96520DE3A18E5e111B5EaAb095312D7fE84')\n",
    "\n",
    "LidoOracle_abi = \"\"\"[{\"constant\":true,\n",
    "                    \"inputs\":[],\n",
    "                    \"name\":\"getLastCompletedReportDelta\",\n",
    "                    \"outputs\":[{\"name\":\"postTotalPooledEther\",\"type\":\"uint256\"},\n",
    "                               {\"name\":\"preTotalPooledEther\",\"type\":\"uint256\"},\n",
    "                               {\"name\":\"timeElapsed\",\"type\":\"uint256\"}],\n",
    "                    \"payable\":false,\n",
    "                    \"stateMutability\":\"view\",\n",
    "                    \"type\":\"function\"}\n",
    "                    ]\n",
    "                \"\"\"\n",
    "stETH_abi = \"\"\"[{\"constant\":true,\n",
    "                \"inputs\":[],\n",
    "                \"name\":\"getFee\",\n",
    "                \"outputs\":[{\"name\":\"feeBasisPoints\",\"type\":\"uint16\"}],\n",
    "                \"payable\":false,\n",
    "                \"stateMutability\":\"view\",\n",
    "                \"type\":\"function\"}\n",
    "                ]\n",
    "            \"\"\"\n",
    "getLastCompletedReportDelta = w3_eth.eth.contract(address=LidoOracle, abi=LidoOracle_abi).functions.getLastCompletedReportDelta().call()\n",
    "postTotalPooledEther = getLastCompletedReportDelta[0]\n",
    "preTotalPooledEther  = getLastCompletedReportDelta[1]\n",
    "timeElapsed          = getLastCompletedReportDelta[2]\n",
    "\n",
    "thisYear             = datetime.now().year                                \n",
    "if thisYear%4==0: #Leap year\n",
    "    secondsInYear = 60*60*24*366\n",
    "else:\n",
    "    secondsInYear = 60*60*24*365\n",
    "\n",
    "print('postTotalPooledEther =',postTotalPooledEther,\n",
    "      'preTotalPooledEther =',preTotalPooledEther, \n",
    "      'timeElapsed =',timeElapsed, \n",
    "      'secondsInYear =',secondsInYear)\n",
    "    \n",
    "Lido_APR = (postTotalPooledEther - preTotalPooledEther) * secondsInYear / (preTotalPooledEther * timeElapsed)\n",
    "print(\"Lido APR =\", Lido_APR)\n",
    "\n",
    "LidoFee = w3_eth.eth.contract(address=stETH, abi=stETH_abi).functions.getFee().call()\n",
    "LidoFee/=10**4\n",
    "print('LidoFee =',LidoFee)\n",
    "Lido_APR = Lido_APR*(1-LidoFee)\n",
    "print(\"Lido APR minus Lido fee =\", Lido_APR)"
   ]
  }
 ],
 "metadata": {
  "kernelspec": {
   "display_name": "Python 3 (ipykernel)",
   "language": "python",
   "name": "python3"
  },
  "language_info": {
   "codemirror_mode": {
    "name": "ipython",
    "version": 3
   },
   "file_extension": ".py",
   "mimetype": "text/x-python",
   "name": "python",
   "nbconvert_exporter": "python",
   "pygments_lexer": "ipython3",
   "version": "3.9.7"
  }
 },
 "nbformat": 4,
 "nbformat_minor": 5
}
