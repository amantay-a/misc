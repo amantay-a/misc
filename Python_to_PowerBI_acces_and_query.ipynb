{
 "cells": [
  {
   "cell_type": "code",
   "execution_count": null,
   "metadata": {},
   "outputs": [],
   "source": [
    "#pip install adodbapi"
   ]
  },
  {
   "cell_type": "code",
   "execution_count": null,
   "metadata": {},
   "outputs": [],
   "source": [
    "#install AMO/OLEDB\n",
    "#https://docs.microsoft.com/en-us/analysis-services/client-libraries?view=asallproducts-allversions"
   ]
  },
  {
   "cell_type": "code",
   "execution_count": null,
   "metadata": {},
   "outputs": [],
   "source": [
    "#https://github.com/mhammond/pywin32/tree/master/adodbapi/examples\n",
    "import adodbapi\n",
    "import pandas as pd"
   ]
  },
  {
   "cell_type": "code",
   "execution_count": 12,
   "metadata": {},
   "outputs": [
    {
     "name": "stdout",
     "output_type": "stream",
     "text": [
      "Table list (last rows):\n",
      "501 TMSCHEMA_ROLES\n",
      "502 TMSCHEMA_ROLE_MEMBERSHIPS\n",
      "503 TMSCHEMA_TABLE_PERMISSIONS\n",
      "504 TMSCHEMA_VARIATIONS\n",
      "505 TMSCHEMA_SETS\n",
      "506 TMSCHEMA_PERSPECTIVE_SETS\n",
      "507 TMSCHEMA_EXTENDED_PROPERTIES\n",
      "508 TMSCHEMA_EXPRESSIONS\n",
      "509 TMSCHEMA_COLUMN_PERMISSIONS\n",
      "510 TMSCHEMA_DETAIL_ROWS_DEFINITIONS\n",
      "511 TMSCHEMA_RELATED_COLUMN_DETAILS\n",
      "512 TMSCHEMA_GROUP_BY_COLUMNS\n",
      "513 TMSCHEMA_CALCULATION_GROUPS\n",
      "514 TMSCHEMA_CALCULATION_ITEMS\n",
      "515 TMSCHEMA_ALTERNATE_OF_DEFINITIONS\n",
      "516 TMSCHEMA_REFRESH_POLICIES\n",
      "517 TMSCHEMA_FORMAT_STRING_DEFINITIONS\n",
      "518 TMSCHEMA_QUERY_GROUPS\n",
      "519 TMSCHEMA_ANALYTICS_AIMETADATA\n"
     ]
    }
   ],
   "source": [
    "#Power BI XMLA Endpoint\n",
    "#https://sqlitybi.com/how-to-export-data-from-power-bi-using-xmla-endpoints/\n",
    "\n",
    "data_source = 'powerbi://api.powerbi.com/v1.0/myorg/My Workspace'\n",
    "init_catalog = 'My Report'\n",
    "user_id = ''\n",
    "password=''\n",
    "conn = adodbapi.connect(f\"Provider=MSOLAP; Timeout=600; \\\n",
    "    Data Source={data_source}; Initial Catalog={init_catalog}; User ID = {user_id}; Password = {password}\", timeout=6000)\n",
    "\n",
    "\n",
    "print('Table list (last rows):')\n",
    "for i, name in enumerate(conn.get_table_names()):\n",
    "    if i>500:\n",
    "        print(i, name)"
   ]
  },
  {
   "cell_type": "code",
   "execution_count": null,
   "metadata": {},
   "outputs": [],
   "source": []
  },
  {
   "cell_type": "code",
   "execution_count": 14,
   "metadata": {},
   "outputs": [
    {
     "data": {
      "text/html": [
       "<div>\n",
       "<style scoped>\n",
       "    .dataframe tbody tr th:only-of-type {\n",
       "        vertical-align: middle;\n",
       "    }\n",
       "\n",
       "    .dataframe tbody tr th {\n",
       "        vertical-align: top;\n",
       "    }\n",
       "\n",
       "    .dataframe thead th {\n",
       "        text-align: right;\n",
       "    }\n",
       "</style>\n",
       "<table border=\"1\" class=\"dataframe\">\n",
       "  <thead>\n",
       "    <tr style=\"text-align: right;\">\n",
       "      <th></th>\n",
       "      <th>link_usd_price</th>\n",
       "      <th>eth_usd_price</th>\n",
       "      <th>bnb_usd_price</th>\n",
       "      <th>matic_usd_price</th>\n",
       "      <th>xdai_usd_price</th>\n",
       "    </tr>\n",
       "  </thead>\n",
       "  <tbody>\n",
       "    <tr>\n",
       "      <th>0</th>\n",
       "      <td>15.780249</td>\n",
       "      <td>1922.51739</td>\n",
       "      <td>321.762966</td>\n",
       "      <td>0.882105</td>\n",
       "      <td>1.002264</td>\n",
       "    </tr>\n",
       "  </tbody>\n",
       "</table>\n",
       "</div>"
      ],
      "text/plain": [
       "   link_usd_price  eth_usd_price  bnb_usd_price  matic_usd_price  \\\n",
       "0       15.780249     1922.51739     321.762966         0.882105   \n",
       "\n",
       "   xdai_usd_price  \n",
       "0        1.002264  "
      ]
     },
     "metadata": {},
     "output_type": "display_data"
    }
   ],
   "source": [
    "#Execute DAX query and get print result\n",
    "crsr = conn.cursor()\n",
    "\n",
    "dax_query_text = \"\"\"//  My DAX Query\n",
    "EVALUATE\n",
    "  SUMMARIZECOLUMNS(\n",
    "    \"Link_USD_Price\", IGNORE('-1- INPUTS'[Link/USD Price]),\n",
    "    \"ETH_USD_Price\", IGNORE('-1- INPUTS'[ETH/USD Price]),\n",
    "    \"BNB_USD_Price\", IGNORE('-1- INPUTS'[BNB/USD Price]),\n",
    "    \"MATIC_USD_Price\", IGNORE('-1- INPUTS'[MATIC/USD Price]),\n",
    "    \"XDAI_USD_Price\", IGNORE('-1- INPUTS'[XDAI/USD Price])\n",
    "  )\n",
    "\"\"\"\n",
    "crsr.execute(dax_query_text)\n",
    "\n",
    "lst = []\n",
    "for i, row in enumerate(crsr): \n",
    "    value = list(row)\n",
    "    lst.append(value)\n",
    "    \n",
    "df = pd.DataFrame(lst)\n",
    "\n",
    "colnames=list(crsr.columnNames)\n",
    "for i, col in enumerate(list(crsr.columnNames)) :\n",
    "    colnames[i] = col[col.rfind(\"[\")+1:col.rfind(\"]\")]\n",
    "    \n",
    "df.columns = colnames \n",
    "df = df.dropna(axis=0)\n",
    "display(df)\n",
    "  "
   ]
  },
  {
   "cell_type": "code",
   "execution_count": null,
   "metadata": {},
   "outputs": [],
   "source": [
    "#close cursor\n",
    "crsr.close()\n",
    "#close connection\n",
    "conn.close()  "
   ]
  }
 ],
 "metadata": {
  "kernelspec": {
   "display_name": "Python 3",
   "language": "python",
   "name": "python3"
  },
  "language_info": {
   "codemirror_mode": {
    "name": "ipython",
    "version": 3
   },
   "file_extension": ".py",
   "mimetype": "text/x-python",
   "name": "python",
   "nbconvert_exporter": "python",
   "pygments_lexer": "ipython3",
   "version": "3.8.5"
  }
 },
 "nbformat": 4,
 "nbformat_minor": 4
}
