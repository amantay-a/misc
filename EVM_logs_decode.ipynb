{
 "cells": [
  {
   "cell_type": "markdown",
   "id": "2c50a012",
   "metadata": {},
   "source": [
    "# EVM logs decode"
   ]
  },
  {
   "cell_type": "code",
   "execution_count": null,
   "id": "4a2a3b10",
   "metadata": {},
   "outputs": [],
   "source": [
    "#!pip install web3"
   ]
  },
  {
   "cell_type": "code",
   "execution_count": 1,
   "id": "e09ef817",
   "metadata": {},
   "outputs": [],
   "source": [
    "import json\n",
    "import pandas as pd\n",
    "from web3 import Web3\n",
    "from web3.middleware import geth_poa_middleware\n",
    "from web3.logs import STRICT, IGNORE, DISCARD, WARN\n",
    "from hexbytes import HexBytes\n",
    "from web3.datastructures import AttributeDict\n",
    "from eth_abi.codec import ABICodec\n",
    "from eth_abi.registry import registry as default_registry\n",
    "from eth_utils import (encode_hex, event_abi_to_log_topic)\n",
    "from web3._utils.events import get_event_data\n",
    "from web3.exceptions import (InvalidEventABI, LogTopicError, MismatchedABI)\n",
    "\n",
    "default_codec = ABICodec(default_registry)"
   ]
  },
  {
   "cell_type": "code",
   "execution_count": 2,
   "id": "df8769dd",
   "metadata": {},
   "outputs": [],
   "source": [
    "def get_event_abi(abi, abi_name, abi_type = 'event'):\n",
    "    l = [x for x in abi if x['type'] == abi_type and x['name']==abi_name]\n",
    "    return l[0]"
   ]
  },
  {
   "cell_type": "code",
   "execution_count": 3,
   "id": "e8d75be8",
   "metadata": {},
   "outputs": [],
   "source": [
    "w3 = Web3(Web3.HTTPProvider('https://polygon-rpc.com/', request_kwargs={'timeout': 10}))\n",
    "\n",
    "# inject the poa compatibility middleware to the innermost layer\n",
    "w3.middleware_onion.inject(geth_poa_middleware, layer=0)\n",
    "\n",
    "abi_str='''\n",
    "[{\"inputs\":[{\"internalType\":\"uint32\",\"name\":\"_maximumGasPrice\",\"type\":\"uint32\"},{\"internalType\":\"uint32\",\"name\":\"_reasonableGasPrice\",\"type\":\"uint32\"},{\"internalType\":\"uint32\",\"name\":\"_microLinkPerEth\",\"type\":\"uint32\"},{\"internalType\":\"uint32\",\"name\":\"_linkGweiPerObservation\",\"type\":\"uint32\"},{\"internalType\":\"uint32\",\"name\":\"_linkGweiPerTransmission\",\"type\":\"uint32\"},{\"internalType\":\"address\",\"name\":\"_link\",\"type\":\"address\"},{\"internalType\":\"address\",\"name\":\"_validator\",\"type\":\"address\"},{\"internalType\":\"int192\",\"name\":\"_minAnswer\",\"type\":\"int192\"},{\"internalType\":\"int192\",\"name\":\"_maxAnswer\",\"type\":\"int192\"},{\"internalType\":\"contract AccessControllerInterface\",\"name\":\"_billingAccessController\",\"type\":\"address\"},{\"internalType\":\"contract AccessControllerInterface\",\"name\":\"_requesterAccessController\",\"type\":\"address\"},{\"internalType\":\"uint8\",\"name\":\"_decimals\",\"type\":\"uint8\"},{\"internalType\":\"string\",\"name\":\"description\",\"type\":\"string\"}],\"stateMutability\":\"nonpayable\",\"type\":\"constructor\"},{\"anonymous\":false,\"inputs\":[{\"indexed\":false,\"internalType\":\"address\",\"name\":\"user\",\"type\":\"address\"}],\"name\":\"AddedAccess\",\"type\":\"event\"},{\"anonymous\":false,\"inputs\":[{\"indexed\":true,\"internalType\":\"int256\",\"name\":\"current\",\"type\":\"int256\"},{\"indexed\":true,\"internalType\":\"uint256\",\"name\":\"roundId\",\"type\":\"uint256\"},{\"indexed\":false,\"internalType\":\"uint256\",\"name\":\"updatedAt\",\"type\":\"uint256\"}],\"name\":\"AnswerUpdated\",\"type\":\"event\"},{\"anonymous\":false,\"inputs\":[{\"indexed\":false,\"internalType\":\"contract AccessControllerInterface\",\"name\":\"old\",\"type\":\"address\"},{\"indexed\":false,\"internalType\":\"contract AccessControllerInterface\",\"name\":\"current\",\"type\":\"address\"}],\"name\":\"BillingAccessControllerSet\",\"type\":\"event\"},{\"anonymous\":false,\"inputs\":[{\"indexed\":false,\"internalType\":\"uint32\",\"name\":\"maximumGasPrice\",\"type\":\"uint32\"},{\"indexed\":false,\"internalType\":\"uint32\",\"name\":\"reasonableGasPrice\",\"type\":\"uint32\"},{\"indexed\":false,\"internalType\":\"uint32\",\"name\":\"microLinkPerEth\",\"type\":\"uint32\"},{\"indexed\":false,\"internalType\":\"uint32\",\"name\":\"linkGweiPerObservation\",\"type\":\"uint32\"},{\"indexed\":false,\"internalType\":\"uint32\",\"name\":\"linkGweiPerTransmission\",\"type\":\"uint32\"}],\"name\":\"BillingSet\",\"type\":\"event\"},{\"anonymous\":false,\"inputs\":[],\"name\":\"CheckAccessDisabled\",\"type\":\"event\"},{\"anonymous\":false,\"inputs\":[],\"name\":\"CheckAccessEnabled\",\"type\":\"event\"},{\"anonymous\":false,\"inputs\":[{\"indexed\":false,\"internalType\":\"uint32\",\"name\":\"previousConfigBlockNumber\",\"type\":\"uint32\"},{\"indexed\":false,\"internalType\":\"uint64\",\"name\":\"configCount\",\"type\":\"uint64\"},{\"indexed\":false,\"internalType\":\"address[]\",\"name\":\"signers\",\"type\":\"address[]\"},{\"indexed\":false,\"internalType\":\"address[]\",\"name\":\"transmitters\",\"type\":\"address[]\"},{\"indexed\":false,\"internalType\":\"uint8\",\"name\":\"threshold\",\"type\":\"uint8\"},{\"indexed\":false,\"internalType\":\"uint64\",\"name\":\"encodedConfigVersion\",\"type\":\"uint64\"},{\"indexed\":false,\"internalType\":\"bytes\",\"name\":\"encoded\",\"type\":\"bytes\"}],\"name\":\"ConfigSet\",\"type\":\"event\"},{\"anonymous\":false,\"inputs\":[{\"indexed\":true,\"internalType\":\"uint256\",\"name\":\"roundId\",\"type\":\"uint256\"},{\"indexed\":true,\"internalType\":\"address\",\"name\":\"startedBy\",\"type\":\"address\"},{\"indexed\":false,\"internalType\":\"uint256\",\"name\":\"startedAt\",\"type\":\"uint256\"}],\"name\":\"NewRound\",\"type\":\"event\"},{\"anonymous\":false,\"inputs\":[{\"indexed\":true,\"internalType\":\"uint32\",\"name\":\"aggregatorRoundId\",\"type\":\"uint32\"},{\"indexed\":false,\"internalType\":\"int192\",\"name\":\"answer\",\"type\":\"int192\"},{\"indexed\":false,\"internalType\":\"address\",\"name\":\"transmitter\",\"type\":\"address\"},{\"indexed\":false,\"internalType\":\"int192[]\",\"name\":\"observations\",\"type\":\"int192[]\"},{\"indexed\":false,\"internalType\":\"bytes\",\"name\":\"observers\",\"type\":\"bytes\"},{\"indexed\":false,\"internalType\":\"bytes32\",\"name\":\"rawReportContext\",\"type\":\"bytes32\"}],\"name\":\"NewTransmission\",\"type\":\"event\"},{\"anonymous\":false,\"inputs\":[{\"indexed\":false,\"internalType\":\"address\",\"name\":\"transmitter\",\"type\":\"address\"},{\"indexed\":false,\"internalType\":\"address\",\"name\":\"payee\",\"type\":\"address\"},{\"indexed\":false,\"internalType\":\"uint256\",\"name\":\"amount\",\"type\":\"uint256\"}],\"name\":\"OraclePaid\",\"type\":\"event\"},{\"anonymous\":false,\"inputs\":[{\"indexed\":true,\"internalType\":\"address\",\"name\":\"from\",\"type\":\"address\"},{\"indexed\":true,\"internalType\":\"address\",\"name\":\"to\",\"type\":\"address\"}],\"name\":\"OwnershipTransferRequested\",\"type\":\"event\"},{\"anonymous\":false,\"inputs\":[{\"indexed\":true,\"internalType\":\"address\",\"name\":\"from\",\"type\":\"address\"},{\"indexed\":true,\"internalType\":\"address\",\"name\":\"to\",\"type\":\"address\"}],\"name\":\"OwnershipTransferred\",\"type\":\"event\"},{\"anonymous\":false,\"inputs\":[{\"indexed\":true,\"internalType\":\"address\",\"name\":\"transmitter\",\"type\":\"address\"},{\"indexed\":true,\"internalType\":\"address\",\"name\":\"current\",\"type\":\"address\"},{\"indexed\":true,\"internalType\":\"address\",\"name\":\"proposed\",\"type\":\"address\"}],\"name\":\"PayeeshipTransferRequested\",\"type\":\"event\"},{\"anonymous\":false,\"inputs\":[{\"indexed\":true,\"internalType\":\"address\",\"name\":\"transmitter\",\"type\":\"address\"},{\"indexed\":true,\"internalType\":\"address\",\"name\":\"previous\",\"type\":\"address\"},{\"indexed\":true,\"internalType\":\"address\",\"name\":\"current\",\"type\":\"address\"}],\"name\":\"PayeeshipTransferred\",\"type\":\"event\"},{\"anonymous\":false,\"inputs\":[{\"indexed\":false,\"internalType\":\"address\",\"name\":\"user\",\"type\":\"address\"}],\"name\":\"RemovedAccess\",\"type\":\"event\"},{\"anonymous\":false,\"inputs\":[{\"indexed\":false,\"internalType\":\"contract AccessControllerInterface\",\"name\":\"old\",\"type\":\"address\"},{\"indexed\":false,\"internalType\":\"contract AccessControllerInterface\",\"name\":\"current\",\"type\":\"address\"}],\"name\":\"RequesterAccessControllerSet\",\"type\":\"event\"},{\"anonymous\":false,\"inputs\":[{\"indexed\":true,\"internalType\":\"address\",\"name\":\"requester\",\"type\":\"address\"},{\"indexed\":false,\"internalType\":\"bytes16\",\"name\":\"configDigest\",\"type\":\"bytes16\"},{\"indexed\":false,\"internalType\":\"uint32\",\"name\":\"epoch\",\"type\":\"uint32\"},{\"indexed\":false,\"internalType\":\"uint8\",\"name\":\"round\",\"type\":\"uint8\"}],\"name\":\"RoundRequested\",\"type\":\"event\"},{\"anonymous\":false,\"inputs\":[{\"indexed\":true,\"internalType\":\"address\",\"name\":\"previous\",\"type\":\"address\"},{\"indexed\":true,\"internalType\":\"address\",\"name\":\"current\",\"type\":\"address\"}],\"name\":\"ValidatorUpdated\",\"type\":\"event\"},{\"inputs\":[],\"name\":\"LINK\",\"outputs\":[{\"internalType\":\"contract LinkTokenInterface\",\"name\":\"\",\"type\":\"address\"}],\"stateMutability\":\"view\",\"type\":\"function\"},{\"inputs\":[],\"name\":\"acceptOwnership\",\"outputs\":[],\"stateMutability\":\"nonpayable\",\"type\":\"function\"},{\"inputs\":[{\"internalType\":\"address\",\"name\":\"_transmitter\",\"type\":\"address\"}],\"name\":\"acceptPayeeship\",\"outputs\":[],\"stateMutability\":\"nonpayable\",\"type\":\"function\"},{\"inputs\":[{\"internalType\":\"address\",\"name\":\"_user\",\"type\":\"address\"}],\"name\":\"addAccess\",\"outputs\":[],\"stateMutability\":\"nonpayable\",\"type\":\"function\"},{\"inputs\":[],\"name\":\"billingAccessController\",\"outputs\":[{\"internalType\":\"contract AccessControllerInterface\",\"name\":\"\",\"type\":\"address\"}],\"stateMutability\":\"view\",\"type\":\"function\"},{\"inputs\":[],\"name\":\"checkEnabled\",\"outputs\":[{\"internalType\":\"bool\",\"name\":\"\",\"type\":\"bool\"}],\"stateMutability\":\"view\",\"type\":\"function\"},{\"inputs\":[],\"name\":\"decimals\",\"outputs\":[{\"internalType\":\"uint8\",\"name\":\"\",\"type\":\"uint8\"}],\"stateMutability\":\"view\",\"type\":\"function\"},{\"inputs\":[],\"name\":\"description\",\"outputs\":[{\"internalType\":\"string\",\"name\":\"\",\"type\":\"string\"}],\"stateMutability\":\"view\",\"type\":\"function\"},{\"inputs\":[],\"name\":\"disableAccessCheck\",\"outputs\":[],\"stateMutability\":\"nonpayable\",\"type\":\"function\"},{\"inputs\":[],\"name\":\"enableAccessCheck\",\"outputs\":[],\"stateMutability\":\"nonpayable\",\"type\":\"function\"},{\"inputs\":[{\"internalType\":\"uint256\",\"name\":\"_roundId\",\"type\":\"uint256\"}],\"name\":\"getAnswer\",\"outputs\":[{\"internalType\":\"int256\",\"name\":\"\",\"type\":\"int256\"}],\"stateMutability\":\"view\",\"type\":\"function\"},{\"inputs\":[],\"name\":\"getBilling\",\"outputs\":[{\"internalType\":\"uint32\",\"name\":\"maximumGasPrice\",\"type\":\"uint32\"},{\"internalType\":\"uint32\",\"name\":\"reasonableGasPrice\",\"type\":\"uint32\"},{\"internalType\":\"uint32\",\"name\":\"microLinkPerEth\",\"type\":\"uint32\"},{\"internalType\":\"uint32\",\"name\":\"linkGweiPerObservation\",\"type\":\"uint32\"},{\"internalType\":\"uint32\",\"name\":\"linkGweiPerTransmission\",\"type\":\"uint32\"}],\"stateMutability\":\"view\",\"type\":\"function\"},{\"inputs\":[{\"internalType\":\"uint80\",\"name\":\"_roundId\",\"type\":\"uint80\"}],\"name\":\"getRoundData\",\"outputs\":[{\"internalType\":\"uint80\",\"name\":\"roundId\",\"type\":\"uint80\"},{\"internalType\":\"int256\",\"name\":\"answer\",\"type\":\"int256\"},{\"internalType\":\"uint256\",\"name\":\"startedAt\",\"type\":\"uint256\"},{\"internalType\":\"uint256\",\"name\":\"updatedAt\",\"type\":\"uint256\"},{\"internalType\":\"uint80\",\"name\":\"answeredInRound\",\"type\":\"uint80\"}],\"stateMutability\":\"view\",\"type\":\"function\"},{\"inputs\":[{\"internalType\":\"uint256\",\"name\":\"_roundId\",\"type\":\"uint256\"}],\"name\":\"getTimestamp\",\"outputs\":[{\"internalType\":\"uint256\",\"name\":\"\",\"type\":\"uint256\"}],\"stateMutability\":\"view\",\"type\":\"function\"},{\"inputs\":[{\"internalType\":\"address\",\"name\":\"_user\",\"type\":\"address\"},{\"internalType\":\"bytes\",\"name\":\"_calldata\",\"type\":\"bytes\"}],\"name\":\"hasAccess\",\"outputs\":[{\"internalType\":\"bool\",\"name\":\"\",\"type\":\"bool\"}],\"stateMutability\":\"view\",\"type\":\"function\"},{\"inputs\":[],\"name\":\"latestAnswer\",\"outputs\":[{\"internalType\":\"int256\",\"name\":\"\",\"type\":\"int256\"}],\"stateMutability\":\"view\",\"type\":\"function\"},{\"inputs\":[],\"name\":\"latestConfigDetails\",\"outputs\":[{\"internalType\":\"uint32\",\"name\":\"configCount\",\"type\":\"uint32\"},{\"internalType\":\"uint32\",\"name\":\"blockNumber\",\"type\":\"uint32\"},{\"internalType\":\"bytes16\",\"name\":\"configDigest\",\"type\":\"bytes16\"}],\"stateMutability\":\"view\",\"type\":\"function\"},{\"inputs\":[],\"name\":\"latestRound\",\"outputs\":[{\"internalType\":\"uint256\",\"name\":\"\",\"type\":\"uint256\"}],\"stateMutability\":\"view\",\"type\":\"function\"},{\"inputs\":[],\"name\":\"latestRoundData\",\"outputs\":[{\"internalType\":\"uint80\",\"name\":\"roundId\",\"type\":\"uint80\"},{\"internalType\":\"int256\",\"name\":\"answer\",\"type\":\"int256\"},{\"internalType\":\"uint256\",\"name\":\"startedAt\",\"type\":\"uint256\"},{\"internalType\":\"uint256\",\"name\":\"updatedAt\",\"type\":\"uint256\"},{\"internalType\":\"uint80\",\"name\":\"answeredInRound\",\"type\":\"uint80\"}],\"stateMutability\":\"view\",\"type\":\"function\"},{\"inputs\":[],\"name\":\"latestTimestamp\",\"outputs\":[{\"internalType\":\"uint256\",\"name\":\"\",\"type\":\"uint256\"}],\"stateMutability\":\"view\",\"type\":\"function\"},{\"inputs\":[],\"name\":\"latestTransmissionDetails\",\"outputs\":[{\"internalType\":\"bytes16\",\"name\":\"configDigest\",\"type\":\"bytes16\"},{\"internalType\":\"uint32\",\"name\":\"epoch\",\"type\":\"uint32\"},{\"internalType\":\"uint8\",\"name\":\"round\",\"type\":\"uint8\"},{\"internalType\":\"int192\",\"name\":\"latestAnswer\",\"type\":\"int192\"},{\"internalType\":\"uint64\",\"name\":\"latestTimestamp\",\"type\":\"uint64\"}],\"stateMutability\":\"view\",\"type\":\"function\"},{\"inputs\":[],\"name\":\"linkAvailableForPayment\",\"outputs\":[{\"internalType\":\"int256\",\"name\":\"availableBalance\",\"type\":\"int256\"}],\"stateMutability\":\"view\",\"type\":\"function\"},{\"inputs\":[],\"name\":\"maxAnswer\",\"outputs\":[{\"internalType\":\"int192\",\"name\":\"\",\"type\":\"int192\"}],\"stateMutability\":\"view\",\"type\":\"function\"},{\"inputs\":[],\"name\":\"minAnswer\",\"outputs\":[{\"internalType\":\"int192\",\"name\":\"\",\"type\":\"int192\"}],\"stateMutability\":\"view\",\"type\":\"function\"},{\"inputs\":[{\"internalType\":\"address\",\"name\":\"_signerOrTransmitter\",\"type\":\"address\"}],\"name\":\"oracleObservationCount\",\"outputs\":[{\"internalType\":\"uint16\",\"name\":\"\",\"type\":\"uint16\"}],\"stateMutability\":\"view\",\"type\":\"function\"},{\"inputs\":[{\"internalType\":\"address\",\"name\":\"_transmitter\",\"type\":\"address\"}],\"name\":\"owedPayment\",\"outputs\":[{\"internalType\":\"uint256\",\"name\":\"\",\"type\":\"uint256\"}],\"stateMutability\":\"view\",\"type\":\"function\"},{\"inputs\":[],\"name\":\"owner\",\"outputs\":[{\"internalType\":\"address payable\",\"name\":\"\",\"type\":\"address\"}],\"stateMutability\":\"view\",\"type\":\"function\"},{\"inputs\":[{\"internalType\":\"address\",\"name\":\"_user\",\"type\":\"address\"}],\"name\":\"removeAccess\",\"outputs\":[],\"stateMutability\":\"nonpayable\",\"type\":\"function\"},{\"inputs\":[],\"name\":\"requestNewRound\",\"outputs\":[{\"internalType\":\"uint80\",\"name\":\"\",\"type\":\"uint80\"}],\"stateMutability\":\"nonpayable\",\"type\":\"function\"},{\"inputs\":[],\"name\":\"requesterAccessController\",\"outputs\":[{\"internalType\":\"contract AccessControllerInterface\",\"name\":\"\",\"type\":\"address\"}],\"stateMutability\":\"view\",\"type\":\"function\"},{\"inputs\":[{\"internalType\":\"uint32\",\"name\":\"_maximumGasPrice\",\"type\":\"uint32\"},{\"internalType\":\"uint32\",\"name\":\"_reasonableGasPrice\",\"type\":\"uint32\"},{\"internalType\":\"uint32\",\"name\":\"_microLinkPerEth\",\"type\":\"uint32\"},{\"internalType\":\"uint32\",\"name\":\"_linkGweiPerObservation\",\"type\":\"uint32\"},{\"internalType\":\"uint32\",\"name\":\"_linkGweiPerTransmission\",\"type\":\"uint32\"}],\"name\":\"setBilling\",\"outputs\":[],\"stateMutability\":\"nonpayable\",\"type\":\"function\"},{\"inputs\":[{\"internalType\":\"contract AccessControllerInterface\",\"name\":\"_billingAccessController\",\"type\":\"address\"}],\"name\":\"setBillingAccessController\",\"outputs\":[],\"stateMutability\":\"nonpayable\",\"type\":\"function\"},{\"inputs\":[{\"internalType\":\"address[]\",\"name\":\"_signers\",\"type\":\"address[]\"},{\"internalType\":\"address[]\",\"name\":\"_transmitters\",\"type\":\"address[]\"},{\"internalType\":\"uint8\",\"name\":\"_threshold\",\"type\":\"uint8\"},{\"internalType\":\"uint64\",\"name\":\"_encodedConfigVersion\",\"type\":\"uint64\"},{\"internalType\":\"bytes\",\"name\":\"_encoded\",\"type\":\"bytes\"}],\"name\":\"setConfig\",\"outputs\":[],\"stateMutability\":\"nonpayable\",\"type\":\"function\"},{\"inputs\":[{\"internalType\":\"address[]\",\"name\":\"_transmitters\",\"type\":\"address[]\"},{\"internalType\":\"address[]\",\"name\":\"_payees\",\"type\":\"address[]\"}],\"name\":\"setPayees\",\"outputs\":[],\"stateMutability\":\"nonpayable\",\"type\":\"function\"},{\"inputs\":[{\"internalType\":\"contract AccessControllerInterface\",\"name\":\"_requesterAccessController\",\"type\":\"address\"}],\"name\":\"setRequesterAccessController\",\"outputs\":[],\"stateMutability\":\"nonpayable\",\"type\":\"function\"},{\"inputs\":[{\"internalType\":\"address\",\"name\":\"_newValidator\",\"type\":\"address\"}],\"name\":\"setValidator\",\"outputs\":[],\"stateMutability\":\"nonpayable\",\"type\":\"function\"},{\"inputs\":[{\"internalType\":\"address\",\"name\":\"_to\",\"type\":\"address\"}],\"name\":\"transferOwnership\",\"outputs\":[],\"stateMutability\":\"nonpayable\",\"type\":\"function\"},{\"inputs\":[{\"internalType\":\"address\",\"name\":\"_transmitter\",\"type\":\"address\"},{\"internalType\":\"address\",\"name\":\"_proposed\",\"type\":\"address\"}],\"name\":\"transferPayeeship\",\"outputs\":[],\"stateMutability\":\"nonpayable\",\"type\":\"function\"},{\"inputs\":[{\"internalType\":\"bytes\",\"name\":\"_report\",\"type\":\"bytes\"},{\"internalType\":\"bytes32[]\",\"name\":\"_rs\",\"type\":\"bytes32[]\"},{\"internalType\":\"bytes32[]\",\"name\":\"_ss\",\"type\":\"bytes32[]\"},{\"internalType\":\"bytes32\",\"name\":\"_rawVs\",\"type\":\"bytes32\"}],\"name\":\"transmit\",\"outputs\":[],\"stateMutability\":\"nonpayable\",\"type\":\"function\"},{\"inputs\":[],\"name\":\"transmitters\",\"outputs\":[{\"internalType\":\"address[]\",\"name\":\"\",\"type\":\"address[]\"}],\"stateMutability\":\"view\",\"type\":\"function\"},{\"inputs\":[],\"name\":\"validator\",\"outputs\":[{\"internalType\":\"contract AggregatorValidatorInterface\",\"name\":\"\",\"type\":\"address\"}],\"stateMutability\":\"view\",\"type\":\"function\"},{\"inputs\":[],\"name\":\"version\",\"outputs\":[{\"internalType\":\"uint256\",\"name\":\"\",\"type\":\"uint256\"}],\"stateMutability\":\"view\",\"type\":\"function\"},{\"inputs\":[{\"internalType\":\"address\",\"name\":\"_recipient\",\"type\":\"address\"},{\"internalType\":\"uint256\",\"name\":\"_amount\",\"type\":\"uint256\"}],\"name\":\"withdrawFunds\",\"outputs\":[],\"stateMutability\":\"nonpayable\",\"type\":\"function\"},{\"inputs\":[{\"internalType\":\"address\",\"name\":\"_transmitter\",\"type\":\"address\"}],\"name\":\"withdrawPayment\",\"outputs\":[],\"stateMutability\":\"nonpayable\",\"type\":\"function\"}]\n",
    "'''\n",
    "abi = json.loads(abi_str)"
   ]
  },
  {
   "cell_type": "markdown",
   "id": "32751721",
   "metadata": {},
   "source": [
    "## <font color='blue'> 1. If we have a transaction hash </font>"
   ]
  },
  {
   "cell_type": "code",
   "execution_count": 4,
   "id": "c3c4aaa8",
   "metadata": {},
   "outputs": [],
   "source": [
    "txhash = '0x6bf6b3a80b09fada1a9bb07b1ad62d27074f0b763f041c7d0d98adbcd84e959b'\n",
    "contract_address = '0xe41b5d02e64b165e77f12b72bf80b56d076000cf'\n",
    "\n",
    "contract_address = Web3.toChecksumAddress(contract_address)\n",
    "Contract = w3.eth.contract(address=contract_address, abi=abi)\n",
    "\n",
    "receipt = w3.eth.getTransactionReceipt(txhash)\n",
    "log = Contract.events.NewTransmission().processReceipt(receipt,errors=DISCARD) #errors=WARN"
   ]
  },
  {
   "cell_type": "code",
   "execution_count": 5,
   "id": "348277fe",
   "metadata": {},
   "outputs": [
    {
     "data": {
      "text/plain": [
       "AttributeDict({'aggregatorRoundId': 601899,\n",
       " 'answer': 288028518954,\n",
       " 'transmitter': '0xd0A8Cb58efcee1CAeE48F3c357074862cA8210dc',\n",
       " 'observations': [287449973102,\n",
       "  287740000000,\n",
       "  287874000000,\n",
       "  287874000000,\n",
       "  288003015405,\n",
       "  288028518954,\n",
       "  288028518954,\n",
       "  288028518954,\n",
       "  288028518954,\n",
       "  288039486674,\n",
       "  288325243765,\n",
       "  288330727625,\n",
       "  288621968577,\n",
       "  288621968577,\n",
       "  288673000000,\n",
       "  288673000000],\n",
       " 'observers': b'\\x0e\\x02\\x0f\\x04\\x0c\\x01\\x03\\x08\\x00\\t\\x07\\x06\\x0b\\r\\n\\x05',\n",
       " 'rawReportContext': b'\\x00\\x00\\x00\\x00\\x00\\x00\\x00\\x00\\x00\\x00\\x00\\x93t\\x13\\xae\\xdb\\x18\\xe5v\\x17J\\xbf\\xf5\\x0e\\x80\\xdcF\\x00\\x02$\\x0b\\x01'})"
      ]
     },
     "execution_count": 5,
     "metadata": {},
     "output_type": "execute_result"
    }
   ],
   "source": [
    "log[0]['args'] #log data"
   ]
  },
  {
   "cell_type": "code",
   "execution_count": 6,
   "id": "e461b9e0",
   "metadata": {},
   "outputs": [
    {
     "data": {
      "text/plain": [
       "(AttributeDict({'args': AttributeDict({'aggregatorRoundId': 601899,\n",
       "   'answer': 288028518954,\n",
       "   'transmitter': '0xd0A8Cb58efcee1CAeE48F3c357074862cA8210dc',\n",
       "   'observations': [287449973102,\n",
       "    287740000000,\n",
       "    287874000000,\n",
       "    287874000000,\n",
       "    288003015405,\n",
       "    288028518954,\n",
       "    288028518954,\n",
       "    288028518954,\n",
       "    288028518954,\n",
       "    288039486674,\n",
       "    288325243765,\n",
       "    288330727625,\n",
       "    288621968577,\n",
       "    288621968577,\n",
       "    288673000000,\n",
       "    288673000000],\n",
       "   'observers': b'\\x0e\\x02\\x0f\\x04\\x0c\\x01\\x03\\x08\\x00\\t\\x07\\x06\\x0b\\r\\n\\x05',\n",
       "   'rawReportContext': b'\\x00\\x00\\x00\\x00\\x00\\x00\\x00\\x00\\x00\\x00\\x00\\x93t\\x13\\xae\\xdb\\x18\\xe5v\\x17J\\xbf\\xf5\\x0e\\x80\\xdcF\\x00\\x02$\\x0b\\x01'}),\n",
       "  'event': 'NewTransmission',\n",
       "  'logIndex': 154,\n",
       "  'transactionIndex': 18,\n",
       "  'transactionHash': HexBytes('0x6bf6b3a80b09fada1a9bb07b1ad62d27074f0b763f041c7d0d98adbcd84e959b'),\n",
       "  'address': '0xE41B5D02E64b165e77f12b72Bf80B56d076000CF',\n",
       "  'blockHash': HexBytes('0x877dc840bc8b0b34418ff0b54e0e29f872bd1d011f8c684eef68423dc6ae2c82'),\n",
       "  'blockNumber': 21658023}),)"
      ]
     },
     "execution_count": 6,
     "metadata": {},
     "output_type": "execute_result"
    }
   ],
   "source": [
    "log # whole log entry"
   ]
  },
  {
   "cell_type": "markdown",
   "id": "02137931",
   "metadata": {},
   "source": [
    "## <font color='blue'> 2. If we need to loop over all the logs for a partuclar contract </font>"
   ]
  },
  {
   "cell_type": "code",
   "execution_count": 7,
   "id": "44263aa6",
   "metadata": {},
   "outputs": [
    {
     "data": {
      "text/plain": [
       "{'anonymous': False,\n",
       " 'inputs': [{'indexed': True,\n",
       "   'internalType': 'uint32',\n",
       "   'name': 'aggregatorRoundId',\n",
       "   'type': 'uint32'},\n",
       "  {'indexed': False,\n",
       "   'internalType': 'int192',\n",
       "   'name': 'answer',\n",
       "   'type': 'int192'},\n",
       "  {'indexed': False,\n",
       "   'internalType': 'address',\n",
       "   'name': 'transmitter',\n",
       "   'type': 'address'},\n",
       "  {'indexed': False,\n",
       "   'internalType': 'int192[]',\n",
       "   'name': 'observations',\n",
       "   'type': 'int192[]'},\n",
       "  {'indexed': False,\n",
       "   'internalType': 'bytes',\n",
       "   'name': 'observers',\n",
       "   'type': 'bytes'},\n",
       "  {'indexed': False,\n",
       "   'internalType': 'bytes32',\n",
       "   'name': 'rawReportContext',\n",
       "   'type': 'bytes32'}],\n",
       " 'name': 'NewTransmission',\n",
       " 'type': 'event'}"
      ]
     },
     "execution_count": 7,
     "metadata": {},
     "output_type": "execute_result"
    }
   ],
   "source": [
    "NewTransmission_ABI = get_event_abi(abi, 'NewTransmission')\n",
    "assert len(NewTransmission_ABI) > 0\n",
    "NewTransmission_ABI #abi of the event                                                                                                             "
   ]
  },
  {
   "cell_type": "code",
   "execution_count": 8,
   "id": "c0f39ca5",
   "metadata": {},
   "outputs": [
    {
     "data": {
      "text/html": [
       "<div>\n",
       "<style scoped>\n",
       "    .dataframe tbody tr th:only-of-type {\n",
       "        vertical-align: middle;\n",
       "    }\n",
       "\n",
       "    .dataframe tbody tr th {\n",
       "        vertical-align: top;\n",
       "    }\n",
       "\n",
       "    .dataframe thead th {\n",
       "        text-align: right;\n",
       "    }\n",
       "</style>\n",
       "<table border=\"1\" class=\"dataframe\">\n",
       "  <thead>\n",
       "    <tr style=\"text-align: right;\">\n",
       "      <th></th>\n",
       "      <th>address</th>\n",
       "      <th>args</th>\n",
       "      <th>blockHash</th>\n",
       "      <th>blockNumber</th>\n",
       "      <th>event</th>\n",
       "      <th>logIndex</th>\n",
       "      <th>transactionHash</th>\n",
       "      <th>transactionIndex</th>\n",
       "    </tr>\n",
       "  </thead>\n",
       "  <tbody>\n",
       "    <tr>\n",
       "      <th>0</th>\n",
       "      <td>0xE41B5D02E64b165e77f12b72Bf80B56d076000CF</td>\n",
       "      <td>(aggregatorRoundId, answer, transmitter, obser...</td>\n",
       "      <td>b'\\xf1\\x98\\x85\"GX\\x89\\xceW*\\x0b\\xee\\xb0\\xf8QB\\...</td>\n",
       "      <td>21670071</td>\n",
       "      <td>NewTransmission</td>\n",
       "      <td>143</td>\n",
       "      <td>b'\\xd3\\xef^\\xda\\xf1\\xd6\\xd5\\xb6\\t\\xd02\\x0f\\xba...</td>\n",
       "      <td>31</td>\n",
       "    </tr>\n",
       "    <tr>\n",
       "      <th>1</th>\n",
       "      <td>0xE41B5D02E64b165e77f12b72Bf80B56d076000CF</td>\n",
       "      <td>(aggregatorRoundId, answer, transmitter, obser...</td>\n",
       "      <td>b'\\xb7HJG\\x16\\xff\\xe2&gt;\\r\\x8f\\x8c\\x8c\\xb8q\\xcbl...</td>\n",
       "      <td>21670076</td>\n",
       "      <td>NewTransmission</td>\n",
       "      <td>88</td>\n",
       "      <td>b'M\\xb4\\xbf\\xd9\\xa9\\x89&amp;\\xf3\\xb3\\x81\\x95\\x107=...</td>\n",
       "      <td>19</td>\n",
       "    </tr>\n",
       "    <tr>\n",
       "      <th>2</th>\n",
       "      <td>0xE41B5D02E64b165e77f12b72Bf80B56d076000CF</td>\n",
       "      <td>(aggregatorRoundId, answer, transmitter, obser...</td>\n",
       "      <td>b'\\xe9[K\\x17\\x15\\x8c\\xad\\x119\\xa5l\\x1d\\x1c\\xfa...</td>\n",
       "      <td>21670080</td>\n",
       "      <td>NewTransmission</td>\n",
       "      <td>573</td>\n",
       "      <td>b'$\\xad\\xbb\\xc4\\xc0\\xe9\\x00[\\x85\\xb6\\xd7\\xcd\\x...</td>\n",
       "      <td>90</td>\n",
       "    </tr>\n",
       "    <tr>\n",
       "      <th>3</th>\n",
       "      <td>0xE41B5D02E64b165e77f12b72Bf80B56d076000CF</td>\n",
       "      <td>(aggregatorRoundId, answer, transmitter, obser...</td>\n",
       "      <td>b'\\xe7\\x1ccW\\xfcz\\xce*U\\xcb\\x1b#\\xd2\\xf6\\xc7\\x...</td>\n",
       "      <td>21670094</td>\n",
       "      <td>NewTransmission</td>\n",
       "      <td>383</td>\n",
       "      <td>b'\\xd12?\\x81\\xfd=[3\\x84[\\x1a\\x8a\\xa5\\x8b\\x82\\x...</td>\n",
       "      <td>142</td>\n",
       "    </tr>\n",
       "    <tr>\n",
       "      <th>4</th>\n",
       "      <td>0xE41B5D02E64b165e77f12b72Bf80B56d076000CF</td>\n",
       "      <td>(aggregatorRoundId, answer, transmitter, obser...</td>\n",
       "      <td>b'^\\x8dV\\x8c\\xa1/\\xaa\\x87\\x87\\xafv7\\x0b\\x11\\xc...</td>\n",
       "      <td>21670099</td>\n",
       "      <td>NewTransmission</td>\n",
       "      <td>38</td>\n",
       "      <td>b'z\\xeb^T\\x8d\\x14\\x1fm`Y\\xc2t\\x1az7P\\x0fh\\xc6d...</td>\n",
       "      <td>18</td>\n",
       "    </tr>\n",
       "    <tr>\n",
       "      <th>...</th>\n",
       "      <td>...</td>\n",
       "      <td>...</td>\n",
       "      <td>...</td>\n",
       "      <td>...</td>\n",
       "      <td>...</td>\n",
       "      <td>...</td>\n",
       "      <td>...</td>\n",
       "      <td>...</td>\n",
       "    </tr>\n",
       "    <tr>\n",
       "      <th>179</th>\n",
       "      <td>0xE41B5D02E64b165e77f12b72Bf80B56d076000CF</td>\n",
       "      <td>(aggregatorRoundId, answer, transmitter, obser...</td>\n",
       "      <td>b'\\x81\\x96\\xf3\\xaafF\\xba&lt;\\x0e8\\xbb\\xf0oI\\xa8\\x...</td>\n",
       "      <td>21671044</td>\n",
       "      <td>NewTransmission</td>\n",
       "      <td>141</td>\n",
       "      <td>b'\\xba\\xa4\\xd8\\x80\\x9a\\xee\\xf5&amp;w\\x83Wy\\xfc\\xa2...</td>\n",
       "      <td>15</td>\n",
       "    </tr>\n",
       "    <tr>\n",
       "      <th>180</th>\n",
       "      <td>0xE41B5D02E64b165e77f12b72Bf80B56d076000CF</td>\n",
       "      <td>(aggregatorRoundId, answer, transmitter, obser...</td>\n",
       "      <td>b'V\\x1f\\x8d\\x0e\\xc3\\x7f}\\x945\\xd1\\xc1l\\x9a\\nWe...</td>\n",
       "      <td>21671049</td>\n",
       "      <td>NewTransmission</td>\n",
       "      <td>67</td>\n",
       "      <td>b'{&gt;\\xcd\\xd87\\xddo\\x8f\\x112\\x91\\xf3\\x99\\x1b\\xc...</td>\n",
       "      <td>10</td>\n",
       "    </tr>\n",
       "    <tr>\n",
       "      <th>181</th>\n",
       "      <td>0xE41B5D02E64b165e77f12b72Bf80B56d076000CF</td>\n",
       "      <td>(aggregatorRoundId, answer, transmitter, obser...</td>\n",
       "      <td>b'\\xbcU\\xe64\\x1d\\xa9\\x19(\\xe2\\x87\\n.\\xd5\\x96\\x...</td>\n",
       "      <td>21671054</td>\n",
       "      <td>NewTransmission</td>\n",
       "      <td>227</td>\n",
       "      <td>b'q\\xc1\\xd2A\\x81H\\xe9\\xad\\xee$xZL\\xf9\\xaa\\xa5i...</td>\n",
       "      <td>23</td>\n",
       "    </tr>\n",
       "    <tr>\n",
       "      <th>182</th>\n",
       "      <td>0xE41B5D02E64b165e77f12b72Bf80B56d076000CF</td>\n",
       "      <td>(aggregatorRoundId, answer, transmitter, obser...</td>\n",
       "      <td>b's\\xa8\\xd8\\xd4n\\x83\\xf2\\xc7\\xc7\\x81A\\xbe\\xecS...</td>\n",
       "      <td>21671060</td>\n",
       "      <td>NewTransmission</td>\n",
       "      <td>260</td>\n",
       "      <td>b\"\\x1f\\xf9\\x10\\x04c\\x15H\\x90\\xf4Vj6W\\x9c\\x0f\\x...</td>\n",
       "      <td>28</td>\n",
       "    </tr>\n",
       "    <tr>\n",
       "      <th>183</th>\n",
       "      <td>0xE41B5D02E64b165e77f12b72Bf80B56d076000CF</td>\n",
       "      <td>(aggregatorRoundId, answer, transmitter, obser...</td>\n",
       "      <td>b'\\xa2\\xa6\\x96T~\\xa6\\xad\\xde\\xbd$\\xc9\\x8d\\x0eU...</td>\n",
       "      <td>21671067</td>\n",
       "      <td>NewTransmission</td>\n",
       "      <td>959</td>\n",
       "      <td>b'\\x95\\xba\\xdf\\xd5\\xe5\\xc3\\n\\x07~d\\x98\\x18\\xa5...</td>\n",
       "      <td>71</td>\n",
       "    </tr>\n",
       "  </tbody>\n",
       "</table>\n",
       "<p>184 rows × 8 columns</p>\n",
       "</div>"
      ],
      "text/plain": [
       "                                        address  \\\n",
       "0    0xE41B5D02E64b165e77f12b72Bf80B56d076000CF   \n",
       "1    0xE41B5D02E64b165e77f12b72Bf80B56d076000CF   \n",
       "2    0xE41B5D02E64b165e77f12b72Bf80B56d076000CF   \n",
       "3    0xE41B5D02E64b165e77f12b72Bf80B56d076000CF   \n",
       "4    0xE41B5D02E64b165e77f12b72Bf80B56d076000CF   \n",
       "..                                          ...   \n",
       "179  0xE41B5D02E64b165e77f12b72Bf80B56d076000CF   \n",
       "180  0xE41B5D02E64b165e77f12b72Bf80B56d076000CF   \n",
       "181  0xE41B5D02E64b165e77f12b72Bf80B56d076000CF   \n",
       "182  0xE41B5D02E64b165e77f12b72Bf80B56d076000CF   \n",
       "183  0xE41B5D02E64b165e77f12b72Bf80B56d076000CF   \n",
       "\n",
       "                                                  args  \\\n",
       "0    (aggregatorRoundId, answer, transmitter, obser...   \n",
       "1    (aggregatorRoundId, answer, transmitter, obser...   \n",
       "2    (aggregatorRoundId, answer, transmitter, obser...   \n",
       "3    (aggregatorRoundId, answer, transmitter, obser...   \n",
       "4    (aggregatorRoundId, answer, transmitter, obser...   \n",
       "..                                                 ...   \n",
       "179  (aggregatorRoundId, answer, transmitter, obser...   \n",
       "180  (aggregatorRoundId, answer, transmitter, obser...   \n",
       "181  (aggregatorRoundId, answer, transmitter, obser...   \n",
       "182  (aggregatorRoundId, answer, transmitter, obser...   \n",
       "183  (aggregatorRoundId, answer, transmitter, obser...   \n",
       "\n",
       "                                             blockHash  blockNumber  \\\n",
       "0    b'\\xf1\\x98\\x85\"GX\\x89\\xceW*\\x0b\\xee\\xb0\\xf8QB\\...     21670071   \n",
       "1    b'\\xb7HJG\\x16\\xff\\xe2>\\r\\x8f\\x8c\\x8c\\xb8q\\xcbl...     21670076   \n",
       "2    b'\\xe9[K\\x17\\x15\\x8c\\xad\\x119\\xa5l\\x1d\\x1c\\xfa...     21670080   \n",
       "3    b'\\xe7\\x1ccW\\xfcz\\xce*U\\xcb\\x1b#\\xd2\\xf6\\xc7\\x...     21670094   \n",
       "4    b'^\\x8dV\\x8c\\xa1/\\xaa\\x87\\x87\\xafv7\\x0b\\x11\\xc...     21670099   \n",
       "..                                                 ...          ...   \n",
       "179  b'\\x81\\x96\\xf3\\xaafF\\xba<\\x0e8\\xbb\\xf0oI\\xa8\\x...     21671044   \n",
       "180  b'V\\x1f\\x8d\\x0e\\xc3\\x7f}\\x945\\xd1\\xc1l\\x9a\\nWe...     21671049   \n",
       "181  b'\\xbcU\\xe64\\x1d\\xa9\\x19(\\xe2\\x87\\n.\\xd5\\x96\\x...     21671054   \n",
       "182  b's\\xa8\\xd8\\xd4n\\x83\\xf2\\xc7\\xc7\\x81A\\xbe\\xecS...     21671060   \n",
       "183  b'\\xa2\\xa6\\x96T~\\xa6\\xad\\xde\\xbd$\\xc9\\x8d\\x0eU...     21671067   \n",
       "\n",
       "               event  logIndex  \\\n",
       "0    NewTransmission       143   \n",
       "1    NewTransmission        88   \n",
       "2    NewTransmission       573   \n",
       "3    NewTransmission       383   \n",
       "4    NewTransmission        38   \n",
       "..               ...       ...   \n",
       "179  NewTransmission       141   \n",
       "180  NewTransmission        67   \n",
       "181  NewTransmission       227   \n",
       "182  NewTransmission       260   \n",
       "183  NewTransmission       959   \n",
       "\n",
       "                                       transactionHash  transactionIndex  \n",
       "0    b'\\xd3\\xef^\\xda\\xf1\\xd6\\xd5\\xb6\\t\\xd02\\x0f\\xba...                31  \n",
       "1    b'M\\xb4\\xbf\\xd9\\xa9\\x89&\\xf3\\xb3\\x81\\x95\\x107=...                19  \n",
       "2    b'$\\xad\\xbb\\xc4\\xc0\\xe9\\x00[\\x85\\xb6\\xd7\\xcd\\x...                90  \n",
       "3    b'\\xd12?\\x81\\xfd=[3\\x84[\\x1a\\x8a\\xa5\\x8b\\x82\\x...               142  \n",
       "4    b'z\\xeb^T\\x8d\\x14\\x1fm`Y\\xc2t\\x1az7P\\x0fh\\xc6d...                18  \n",
       "..                                                 ...               ...  \n",
       "179  b'\\xba\\xa4\\xd8\\x80\\x9a\\xee\\xf5&w\\x83Wy\\xfc\\xa2...                15  \n",
       "180  b'{>\\xcd\\xd87\\xddo\\x8f\\x112\\x91\\xf3\\x99\\x1b\\xc...                10  \n",
       "181  b'q\\xc1\\xd2A\\x81H\\xe9\\xad\\xee$xZL\\xf9\\xaa\\xa5i...                23  \n",
       "182  b\"\\x1f\\xf9\\x10\\x04c\\x15H\\x90\\xf4Vj6W\\x9c\\x0f\\x...                28  \n",
       "183  b'\\x95\\xba\\xdf\\xd5\\xe5\\xc3\\n\\x07~d\\x98\\x18\\xa5...                71  \n",
       "\n",
       "[184 rows x 8 columns]"
      ]
     },
     "execution_count": 8,
     "metadata": {},
     "output_type": "execute_result"
    }
   ],
   "source": [
    "#pull all the logs from an address\n",
    "\n",
    "contract_address = '0xe41b5d02e64b165e77f12b72bf80b56d076000cf'\n",
    "contract_address = Web3.toChecksumAddress(contract_address)\n",
    "\n",
    "logs = w3.eth.get_logs({\"address\": contract_address\n",
    "                       ,\"topics\":[\"0xf6a97944f31ea060dfde0566e4167c1a1082551e64b60ecb14d599a9d023d451\"] #optional if we suppress mismatch errors\n",
    "                       ,\"fromBlock\": w3.eth.get_block('latest')['number'] - 1000\n",
    "                       ,\"toBlock\": 'latest'\n",
    "                       })\n",
    "\n",
    "all_events = []\n",
    "for l in logs:\n",
    "    try:\n",
    "        evt = get_event_data(w3.codec, NewTransmission_ABI, l)\n",
    "    except MismatchedABI: #if for some reason there are other events according to defined filter\n",
    "        pass\n",
    "    all_events.append(evt)\n",
    "df = pd.DataFrame(all_events)\n",
    "df"
   ]
  },
  {
   "cell_type": "code",
   "execution_count": 9,
   "id": "a58d85f0",
   "metadata": {},
   "outputs": [
    {
     "data": {
      "text/plain": [
       "AttributeDict({'aggregatorRoundId': 604266,\n",
       " 'answer': 290031039784,\n",
       " 'transmitter': '0x983D0e1d23D3109D15e833fB800A51ba154DEfD3',\n",
       " 'observations': [289592242246,\n",
       "  289601124494,\n",
       "  289610000000,\n",
       "  289648054131,\n",
       "  289931277121,\n",
       "  289934444470,\n",
       "  289982973488,\n",
       "  290031039784,\n",
       "  290031039784,\n",
       "  290081509673,\n",
       "  290081509673,\n",
       "  290081509673,\n",
       "  290081509673,\n",
       "  290088437772,\n",
       "  290273353289,\n",
       "  290550000000],\n",
       " 'observers': b'\\x04\\x0f\\x02\\x0e\\x06\\x03\\x0c\\x0b\\x07\\x08\\t\\x01\\x00\\r\\x05\\n',\n",
       " 'rawReportContext': b'\\x00\\x00\\x00\\x00\\x00\\x00\\x00\\x00\\x00\\x00\\x00\\x93t\\x13\\xae\\xdb\\x18\\xe5v\\x17J\\xbf\\xf5\\x0e\\x80\\xdcF\\x00\\x02&\\xa3\\x02'})"
      ]
     },
     "execution_count": 9,
     "metadata": {},
     "output_type": "execute_result"
    }
   ],
   "source": [
    "df.loc[0,'args'] #parsed log data"
   ]
  },
  {
   "cell_type": "markdown",
   "id": "473231d6",
   "metadata": {},
   "source": [
    "## <font color='blue'> 3. If we have only event data (no RPC conection required)</font>"
   ]
  },
  {
   "cell_type": "markdown",
   "id": "0f7f08b0",
   "metadata": {},
   "source": [
    "### <font size = 3>NewTransmission</font>"
   ]
  },
  {
   "cell_type": "code",
   "execution_count": 10,
   "id": "16f06ef2",
   "metadata": {},
   "outputs": [
    {
     "data": {
      "text/plain": [
       "AttributeDict({'args': AttributeDict({'aggregatorRoundId': 1,\n",
       "  'answer': 378752250994,\n",
       "  'transmitter': '0x5565b5362FF9f468bA2f144f38b87187C9a010A8',\n",
       "  'observations': [378237744125,\n",
       "   378417496155,\n",
       "   378419000000,\n",
       "   378447144089,\n",
       "   378524288179,\n",
       "   378617965010,\n",
       "   378617965010,\n",
       "   378617965010,\n",
       "   378752250994,\n",
       "   378764929224,\n",
       "   378886536979,\n",
       "   378886536979,\n",
       "   378949316762,\n",
       "   378997186327,\n",
       "   379146890177,\n",
       "   379528633525],\n",
       "  'observers': b'\\x07\\x0b\\x0f\\x05\\x00\\x04\\x0c\\n\\x02\\x01\\x08\\x0e\\x03\\r\\x06\\t',\n",
       "  'rawReportContext': b\"\\x00\\x00\\x00\\x00\\x00\\x00\\x00\\x00\\x00\\x00\\x00f\\xc8\\x88\\\\vE\\xf4\\x81[\\x0b\\xd9\\x98\\x1d\\xc8'\\xed\\x00\\x00\\x0f\\x90\\x05\"}),\n",
       " 'event': 'NewTransmission',\n",
       " 'logIndex': '',\n",
       " 'transactionIndex': '',\n",
       " 'transactionHash': '',\n",
       " 'address': '',\n",
       " 'blockHash': '',\n",
       " 'blockNumber': ''})"
      ]
     },
     "execution_count": 10,
     "metadata": {},
     "output_type": "execute_result"
    }
   ],
   "source": [
    "#data from database\n",
    "NewTransmission_data = '000000000000000000000000000000000000000000000000000000582f64b4720000000000000000000000005565b5362ff9f468ba2f144f38b87187c9a010a800000000000000000000000000000000000000000000000000000000000000a000000000000000000000000000000000000000000000000000000000000002c0000000000000000000000066c8885c7645f4815b0bd9981dc827ed00000f900500000000000000000000000000000000000000000000000000000000000000100000000000000000000000000000000000000000000000000000005810b9f3fd000000000000000000000000000000000000000000000000000000581b70c05b000000000000000000000000000000000000000000000000000000581b87b2c0000000000000000000000000000000000000000000000000000000581d3524990000000000000000000000000000000000000000000000000000005821ce44b3000000000000000000000000000000000000000000000000000000582763a9d2000000000000000000000000000000000000000000000000000000582763a9d2000000000000000000000000000000000000000000000000000000582763a9d2000000000000000000000000000000000000000000000000000000582f64b47200000000000000000000000000000000000000000000000000000058302628c8000000000000000000000000000000000000000000000000000000583765bf13000000000000000000000000000000000000000000000000000000583765bf13000000000000000000000000000000000000000000000000000000583b23b09a000000000000000000000000000000000000000000000000000000583dfe1f170000000000000000000000000000000000000000000000000000005846ea6bc1000000000000000000000000000000000000000000000000000000585dab5cb50000000000000000000000000000000000000000000000000000000000000010070b0f0500040c0a0201080e030d060900000000000000000000000000000000'\n",
    "\n",
    "NewTransmission_ABI = get_event_abi(abi, 'NewTransmission')\n",
    "NewTransmission_topic = encode_hex(event_abi_to_log_topic(NewTransmission_ABI)) \n",
    "NewTransmission_event = AttributeDict({'data':NewTransmission_data\n",
    "                                      ,'topics': [HexBytes(NewTransmission_topic)\n",
    "                                                 ,HexBytes('0x0000000000000000000000000000000000000000000000000000000000000001')\n",
    "                                                 ]\n",
    "                                       ,'address':'' #'0x908edc7e1974ecab1ca7164424bc4cac287d83ad'\n",
    "                                       ,'logIndex':''\n",
    "                                       ,'transactionIndex':''\n",
    "                                       ,'transactionHash':''\n",
    "                                       ,'blockHash':''\n",
    "                                       ,'blockNumber':''\n",
    "                             \n",
    "    })\n",
    "get_event_data(default_codec, NewTransmission_ABI, NewTransmission_event) # w3.codec->default_codec if we have no rpc connection"
   ]
  },
  {
   "cell_type": "markdown",
   "id": "6eb5ddaf",
   "metadata": {},
   "source": [
    "### <font size = 3>BillingSet</font> "
   ]
  },
  {
   "cell_type": "code",
   "execution_count": 11,
   "id": "523b3d28",
   "metadata": {},
   "outputs": [
    {
     "data": {
      "text/plain": [
       "AttributeDict({'args': AttributeDict({'maximumGasPrice': 2000,\n",
       "  'reasonableGasPrice': 100,\n",
       "  'microLinkPerEth': 89425000,\n",
       "  'linkGweiPerObservation': 28000000,\n",
       "  'linkGweiPerTransmission': 170000000}),\n",
       " 'event': 'BillingSet',\n",
       " 'logIndex': '',\n",
       " 'transactionIndex': '',\n",
       " 'transactionHash': '',\n",
       " 'address': '',\n",
       " 'blockHash': '',\n",
       " 'blockNumber': ''})"
      ]
     },
     "execution_count": 11,
     "metadata": {},
     "output_type": "execute_result"
    }
   ],
   "source": [
    "data = '00000000000000000000000000000000000000000000000000000000000007d0000000000000000000000000000000000000000000000000000000000000006400000000000000000000000000000000000000000000000000000000055484680000000000000000000000000000000000000000000000000000000001ab3f00000000000000000000000000000000000000000000000000000000000a21fe80'\n",
    "\n",
    "BillingSet_ABI = get_event_abi(abi, 'BillingSet')\n",
    "BillingSet_topic = encode_hex(event_abi_to_log_topic(BillingSet_ABI)) \n",
    "BillingSet_event = AttributeDict({'data':data\n",
    "                                 ,'topics': [HexBytes(BillingSet_topic)]\n",
    "                                 ,'address':'' \n",
    "                                 ,'logIndex':''\n",
    "                                 ,'transactionIndex':''\n",
    "                                 ,'transactionHash':''\n",
    "                                 ,'blockHash':''\n",
    "                                 ,'blockNumber':''\n",
    "                             \n",
    "    })\n",
    "get_event_data(default_codec, BillingSet_ABI, BillingSet_event) # w3.codec->default_codec if we have no rpc connection\n"
   ]
  },
  {
   "cell_type": "markdown",
   "id": "9a2bb02b",
   "metadata": {},
   "source": [
    "### <font size = 3>ConfigSet</font> "
   ]
  },
  {
   "cell_type": "code",
   "execution_count": 12,
   "id": "12cf81e4",
   "metadata": {},
   "outputs": [
    {
     "data": {
      "text/plain": [
       "AttributeDict({'args': AttributeDict({'previousConfigBlockNumber': 0,\n",
       "  'configCount': 1,\n",
       "  'signers': ['0xC01465eBA4FA3A72309374bb67149A8FD14Cb687',\n",
       "   '0x8d766C898fA75C6a2fc59a078E8C2D2DE12547E2',\n",
       "   '0xCc1b49B86F79C7E50E294D3e3734fe94DB9A42F0',\n",
       "   '0x8EB664cD767f12507E7e3864Ba5B7E925090A0E5',\n",
       "   '0x3650Da40Fe97A93bfC2623E0DcA3899a91Eca0e2',\n",
       "   '0x0ac6c28B582016A55f6d4e3aC77b64749568Ffe1',\n",
       "   '0x8316e3Eb7eccfCAF0c1967903CcA8ECda3dF37E0',\n",
       "   '0x1E15545b23B831fD39e1d9579427DeA61425DD47',\n",
       "   '0x5007b477F939646b4E4416AFcEf6b00567F5F078',\n",
       "   '0xbd34530f411130fd7aCB88b8251009A0829379aA',\n",
       "   '0xA4EBE1e06dd0bf674B0757cd20b97Ee16b00aF1B',\n",
       "   '0x9eFB09cDfbe41C666F8441AA5F8D84eC8c8f0445',\n",
       "   '0x67a95e050d2E4200808A488628d55269dDeFC455',\n",
       "   '0xD1C8b1e58C1186597D1897054b738c551ec74BD4',\n",
       "   '0x3d446d0d45B7fAb5Aa7954Bd9140b56523BA32f7',\n",
       "   '0x080D263FAA8CBd848f0b9B24B40e1f23EA06b3A3'],\n",
       "  'transmitters': ['0x218B5a7861dBf368D09A84E0dBfF6C6DDbf99DB8',\n",
       "   '0x70bC61658615725A82D5e78FF0066BFCb1b98988',\n",
       "   '0xb976d01275B809333E3EfD76D1d31fE9264466D0',\n",
       "   '0xcC29be4Ca92D4Ecc43C8451fBA94C200B83991f6',\n",
       "   '0x61317C73d0225b2E37140fb9664d607B450613C6',\n",
       "   '0xC4b732Fd121F2f3783A9Ac2a6C62fD535FD13FdA',\n",
       "   '0xFa0E4F48a369BB3eCBCEe0B5119379EA8D1bcF29',\n",
       "   '0x7BFb89db2d7217c57C3Ad3d4B55826eFD17dC2e9',\n",
       "   '0xDbfea8D5822141c13f92CaA06EB94d0F3d67C243',\n",
       "   '0x3C4ad65F5b4884397e1F09596c7ac7F8F95b3fF3',\n",
       "   '0xf34aC04a28F7CB5324A167C96B24ADE9c742B44f',\n",
       "   '0xCe859E48f6cE9834a119Ba04FdC53c1D4F1082A7',\n",
       "   '0xDdE59ceeC7A2cC8B2bD78199877BA22018966813',\n",
       "   '0xc74cE67BfC623c803D48AFc74a09A6FF6b599003',\n",
       "   '0xB5b90F596341127dE460465dEA9b28b8a6Bd1984',\n",
       "   '0xCF4Be57aA078Dc7568C631BE7A73adc1cdA992F8'],\n",
       "  'threshold': 5,\n",
       "  'encodedConfigVersion': 1,\n",
       "  'encoded': b'\\x00\\x00\\x00\\x00\\x00\\x00\\x00\\x00\\x00\\x00\\x00\\x00\\x00\\x00\\x00\\x00\\x00\\x00\\x00\\x00\\x00\\x00\\x00\\x00\\x00\\x00\\x00\\x00\\x00\\x00\\x00 \\x00\\x00\\x00\\x00\\x00\\x00\\x00\\x00\\x00\\x00\\x00\\x00\\x00\\x00\\x00\\x00\\x00\\x00\\x00\\x00\\x00\\x00\\x00\\x00\\x00\\x00\\x00\\x08&)\\x9e\\x00\\x00\\x00\\x00\\x00\\x00\\x00\\x00\\x00\\x00\\x00\\x00\\x00\\x00\\x00\\x00\\x00\\x00\\x00\\x00\\x00\\x00\\x00\\x00\\x00\\x00\\x00\\x00\\x03\\xf5Gj\\x00\\x00\\x00\\x00\\x00\\x00\\x00\\x00\\x00\\x00\\x00\\x00\\x00\\x00\\x00\\x00\\x00\\x00\\x00\\x00\\x00\\x00\\x00\\x00\\x00\\x00\\x00\\x00\\x06\\xfc#\\xac\\x00\\x00\\x00\\x00\\x00\\x00\\x00\\x00\\x00\\x00\\x00\\x00\\x00\\x00\\x00\\x00\\x00\\x00\\x00\\x00\\x00\\x00\\x00\\x00\\x00\\x00\\x00\\x00\\x02\\xcbAx\\x00\\x00\\x00\\x00\\x00\\x00\\x00\\x00\\x00\\x00\\x00\\x00\\x00\\x00\\x00\\x00\\x00\\x00\\x00\\x00\\x00\\x00\\x00\\x00\\x00\\x00\\x00N\\x94\\x91O\\x00\\x00\\x00\\x00\\x00\\x00\\x00\\x00\\x00\\x00\\x00\\x00\\x00\\x00\\x00\\x00\\x00\\x00\\x00\\x00\\x00\\x00\\x00\\x00\\x00\\x00\\x00\\x00\\x00\\x00\\x011-\\x00\\x00\\x00\\x00\\x00\\x00\\x00\\x00\\x00\\x00\\x00\\x00\\x00\\x00\\x00\\x00\\x00\\x00\\x00\\x00\\x00\\x00\\x00\\x00\\x00\\x00\\x00\\x00\\r\\xf8GX\\x00\\x00\\x00\\x00\\x00\\x00\\x00\\x00\\x00\\x00\\x00\\x00\\x00\\x00\\x00\\x00\\x00\\x00\\x00\\x00\\x00\\x00\\x00\\x00\\x00\\x00\\x00\\x00\\x00\\x00\\x00\\x00\\x06\\x00\\x00\\x00\\x00\\x00\\x00\\x00\\x00\\x00\\x00\\x00\\x00\\x00\\x00\\x00\\x00\\x00\\x00\\x00\\x00\\x00\\x00\\x00\\x00\\x00\\x00\\x00\\x00\\x00\\x00\\x01\\x80\\x00\\x00\\x00\\x00\\x00\\x00\\x00\\x00\\x00\\x00\\x00\\x00\\x00\\x00\\x00\\x00\\x00\\x00\\x00\\x00\\x00\\x00\\x00\\x00\\x00\\x00\\x00\\x00\\x00\\x00\\x03\\xa0\\x00\\x00\\x00\\x00\\x00\\x00\\x00\\x00\\x00\\x00\\x00\\x00\\x00\\x00\\x00\\x00\\x00\\x00\\x00\\x00\\x00\\x00\\x00\\x00\\x00\\x00\\x00\\x00\\x00\\x00\\x05\\xc0\\x00\\x00\\x00\\x00\\x00\\x00\\x00\\x00\\x00\\x00\\x00\\x00\\x00\\x00\\x00\\x00\\x00\\x00\\x00\\x00\\x00\\x00\\x00\\x00\\x00\\x00\\x00\\x00\\x00\\x00\\t@\\x00\\x00\\x00\\x00\\x00\\x00\\x00\\x00\\x00\\x00\\x00\\x00\\x00\\x00\\x00\\x00\\x00\\x00\\x00\\x00\\x00\\x00\\x00\\x00\\x00\\x00\\x00\\x00\\x00\\x00\\x00\\x10\\x00\\x00\\x00\\x00\\x00\\x00\\x00\\x00\\x00\\x00\\x00\\x00\\x00\\x00\\x00\\x00\\x00\\x00\\x00\\x00\\x00\\x00\\x00\\x00\\x00\\x00\\x00\\x00\\x00\\x00\\x00\\x01\\x00\\x00\\x00\\x00\\x00\\x00\\x00\\x00\\x00\\x00\\x00\\x00\\x00\\x00\\x00\\x00\\x00\\x00\\x00\\x00\\x00\\x00\\x00\\x00\\x00\\x00\\x00\\x00\\x00\\x00\\x00\\x02\\x00\\x00\\x00\\x00\\x00\\x00\\x00\\x00\\x00\\x00\\x00\\x00\\x00\\x00\\x00\\x00\\x00\\x00\\x00\\x00\\x00\\x00\\x00\\x00\\x00\\x00\\x00\\x00\\x00\\x00\\x00\\x02\\x00\\x00\\x00\\x00\\x00\\x00\\x00\\x00\\x00\\x00\\x00\\x00\\x00\\x00\\x00\\x00\\x00\\x00\\x00\\x00\\x00\\x00\\x00\\x00\\x00\\x00\\x00\\x00\\x00\\x00\\x00\\x02\\x00\\x00\\x00\\x00\\x00\\x00\\x00\\x00\\x00\\x00\\x00\\x00\\x00\\x00\\x00\\x00\\x00\\x00\\x00\\x00\\x00\\x00\\x00\\x00\\x00\\x00\\x00\\x00\\x00\\x00\\x00\\x02\\x00\\x00\\x00\\x00\\x00\\x00\\x00\\x00\\x00\\x00\\x00\\x00\\x00\\x00\\x00\\x00\\x00\\x00\\x00\\x00\\x00\\x00\\x00\\x00\\x00\\x00\\x00\\x00\\x00\\x00\\x00\\x02\\x00\\x00\\x00\\x00\\x00\\x00\\x00\\x00\\x00\\x00\\x00\\x00\\x00\\x00\\x00\\x00\\x00\\x00\\x00\\x00\\x00\\x00\\x00\\x00\\x00\\x00\\x00\\x00\\x00\\x00\\x00\\x02\\x00\\x00\\x00\\x00\\x00\\x00\\x00\\x00\\x00\\x00\\x00\\x00\\x00\\x00\\x00\\x00\\x00\\x00\\x00\\x00\\x00\\x00\\x00\\x00\\x00\\x00\\x00\\x00\\x00\\x00\\x00\\x02\\x00\\x00\\x00\\x00\\x00\\x00\\x00\\x00\\x00\\x00\\x00\\x00\\x00\\x00\\x00\\x00\\x00\\x00\\x00\\x00\\x00\\x00\\x00\\x00\\x00\\x00\\x00\\x00\\x00\\x00\\x00\\x02\\x00\\x00\\x00\\x00\\x00\\x00\\x00\\x00\\x00\\x00\\x00\\x00\\x00\\x00\\x00\\x00\\x00\\x00\\x00\\x00\\x00\\x00\\x00\\x00\\x00\\x00\\x00\\x00\\x00\\x00\\x00\\x02\\x00\\x00\\x00\\x00\\x00\\x00\\x00\\x00\\x00\\x00\\x00\\x00\\x00\\x00\\x00\\x00\\x00\\x00\\x00\\x00\\x00\\x00\\x00\\x00\\x00\\x00\\x00\\x00\\x00\\x00\\x00\\x02\\x00\\x00\\x00\\x00\\x00\\x00\\x00\\x00\\x00\\x00\\x00\\x00\\x00\\x00\\x00\\x00\\x00\\x00\\x00\\x00\\x00\\x00\\x00\\x00\\x00\\x00\\x00\\x00\\x00\\x00\\x00\\x02\\x00\\x00\\x00\\x00\\x00\\x00\\x00\\x00\\x00\\x00\\x00\\x00\\x00\\x00\\x00\\x00\\x00\\x00\\x00\\x00\\x00\\x00\\x00\\x00\\x00\\x00\\x00\\x00\\x00\\x00\\x00\\x02\\x00\\x00\\x00\\x00\\x00\\x00\\x00\\x00\\x00\\x00\\x00\\x00\\x00\\x00\\x00\\x00\\x00\\x00\\x00\\x00\\x00\\x00\\x00\\x00\\x00\\x00\\x00\\x00\\x00\\x00\\x00\\x02\\x00\\x00\\x00\\x00\\x00\\x00\\x00\\x00\\x00\\x00\\x00\\x00\\x00\\x00\\x00\\x00\\x00\\x00\\x00\\x00\\x00\\x00\\x00\\x00\\x00\\x00\\x00\\x00\\x00\\x00\\x00\\x02\\x00\\x00\\x00\\x00\\x00\\x00\\x00\\x00\\x00\\x00\\x00\\x00\\x00\\x00\\x00\\x00\\x00\\x00\\x00\\x00\\x00\\x00\\x00\\x00\\x00\\x00\\x00\\x00\\x00\\x00\\x00\\x02\\x00\\x00\\x00\\x00\\x00\\x00\\x00\\x00\\x00\\x00\\x00\\x00\\x00\\x00\\x00\\x00\\x00\\x00\\x00\\x00\\x00\\x00\\x00\\x00\\x00\\x00\\x00\\x00\\x00\\x00\\x00\\x10\\t\\xf2\\xd0\\xa6\\xc4\\xcd\\x96\\x8f\\xd1\\x80B\\xbbdQ\\xf2WO\\xea\\n\\x87V\\x95\\xfe\\x1f\\xa9R\\x9d\\xbe\\xa5\\xdd\\x825\\xe0x\\x01\\x17\\x19\\x1f\\x1eWx|pm\\xea\\x94\\xdf\\xba\\xfb\\xc0\\xc1\\x15\\xe0\\xadb/\\x05<F\\x82\\x9d\\xe9U\\xb1?n\\xd3\\x81\\xd9s\\xb5\\xd8C\\x88,Im\\xe2\\xfa\\xf4\\xf0\\xf2\\x942@\\xc7\\xdaP\\x0ba&\\xa2\\xb9\\xfal\\x1d\\r\\xd7\\x89\\xd4\\xe9p\\xd0\\xf9\\x99\\x85_\\x94;D\\xd3\\xfbI}o\\xe3e\\xaf\\xca\\x17\\xf6\\xd3[\\x86\\x8eQhu\\x88zv5k\\xc9{\\x88\\xbb\\x15\\xb5\\xc1\\xd9u\\x02\\x90\\xf02L\\xd6.PFt;\\xba\\xbc\\x90\\x0c\\xdc\\xc2\\xd4\\xe9\\x1a:\\xf4\\x08\\xc5l2\\xb3\\x15\\xba\\x9f\\xf6\\x83\\x96%\\xcam\\x84{\\xb7|\\xbe\\xda\\xb6\\xef\\xc0\\x11\\xa9&@\\\\\\xb1,\\xc0d\\n\\xa6\\xc0G\\xc5\\x1c\\xe0\\xabK\\xa5\\xa5n\\x04bt^\\xa9+>^~#9\\x88f\\x11\\xe6\\xd1\\xb4\\x90\\xfc\\xc4\\xc49\\x92\"\\x10\"Q\\xa1F\\x99\\xda\\xe7gj\\xb2\\xbaE\\xbf<\\xbc\\xe8T\\xb5\\x02R\\x8f\\xd5$\\xae\\x90\\xbep\\xe9\\x7f\\xab6z\\ntD\\xbd\\x11W\\xf2\\xca\\x81\\xe3(\\xe8TU?,\\xf29A\\x9c\\x96\\xef\\rC\\xa3\\x10\\xe0>\\xd3\\xc9\\x9b\\x01\\xb4:knj\\xd1\\xeas\\x05\\x1b\\x15\\xa4*\\xc3\\xf4O\\x18\\xdc\\xd1\\xf1\\xc1\\x85/\\xa6\\xf7\\x8d=\\x94\\x0e\\xd1\\xee\\xe39\\x1a\\x89U\\xb7#\\xac_\\x1ae\\xc6\\xef\\x01y\\xa7b\\x03OU\\xfd\\x9a\\n\\xec\\x0f\\xda\\xd1\\xcd\\xec\\xc8\\xc3PAl\\xa7\\xb3\\xae\\x8b\\x9dm{Q\\xde\\x10\\x93`\\xf0\\xe1\\x9e\\x81\\x07\\xed\\x8f\\xb0\\xc3\\xc9\\xfck\\x87\\xa6\\xbc\\x91~\\x0cO\\x80\\x88\\x10^\\x7f\\xa2\\x8c\\xbb\\xf7\\r\\xd4O\\x9f\\xd9\\xe4\\\\\\\\lN{\\x1a\\\\\\xb3&\\x8e[\\xb8\\xf0{\\x16^\\xc9\\xcbo!\\x9e\\xb1n\\xee`\\xde\\xf6\\xa0\"]O@(\\xf3\\xd2_n\\x9b\\xa9\\xfe\\xda\\xbc\\x9eE\\x91\\x9f\\xf3\\x01>\\x16\\xcf\\xa6\\xf6[ \\xac\\xb0\\xc3s?G\\xa0\\xef\\\\\\xc5Sk\\x02\\xa4\\xda\\x1eS#Y/\\x9c\\x86\\xd4\\xedo\\x10\\xd0qi\\xe3*\\x88\\x96\\xceL\\xb17K.M\\t\\xf3\\x88i\\x9aZN\\xd0a\\x00\\x00\\x00\\x00\\x00\\x00\\x00\\x00\\x00\\x00\\x00\\x00\\x00\\x00\\x00\\x00\\x00\\x00\\x00\\x00\\x00\\x00\\x00\\x00\\x00\\x00\\x00\\x00\\x00\\x00\\x03O12D3KooWCeq2N4tBSmyRBdaSnjjoxYUj4hPsNKaugw6GQdwijaoY,12D3KooWArs1EVvfysHki6yNRZomgnX3kzButCGiXJQuq8Mhi7VF,12D3KooWGaVbR5cxTn8KecUvjxWMPZr3AVB35VxLFuBJC63vvJMw,12D3KooWHxfkcnDe1TaXFhHhtzB3TFcqe6sk7KNQeswc7CFDxh2i,12D3KooWANgK7etqawgKdXMa7MDnmFVnTGDeTABqsnnkWVDkTAaR,12D3KooWGqpYuiU4um48CXyZkjsofDXRMQfso4s4RXHHxZujDEY8,12D3KooWQ8s1sJeUUKfZSwW9Wejb5awk13tRMrNbFMuXHjeNMq3H,12D3KooWA2PqoV73Yn4gLwKZtf7kZtAW8UpiTPjEHHDYZ3HbsXC8,12D3KooWHvT5SgdYt7FSSENJGAGS9ZJm1jVQ7HmSNNW2eXuf1o31,12D3KooWRFuHUDm7iabPznm7yuvsgvYNqzJziDMJRrGBmnV1xmX2,12D3KooWNBpGFnSF2mmZ8weLV3s4Ht5VGV4juoKs33WzKcQ3K9pN,12D3KooWRLFKV7gh5zMRD35Hr2rBuzoFDCgaALdNYTkLscPUk6hL,12D3KooWA1Q6bcLQYKWyKyerwBTxWsYXGNnz6kLcwYokjDGjirbb,12D3KooWSpLkuD9b42yrFoprCQujpW4gkrTAGSWN7EfnumhUkvKB,12D3KooWK1BUCt42twn4FCouT6CdRkdXze46bZm11NTTGwstpBWp,12D3KooWJGF9SBY2HG5TLHfJrMv8bom8DGjL21MAziR6tBa6z1jr\\x00\\x00\\x00\\x00\\x00\\x00\\x00\\x00\\x00\\x00\\x00\\x00\\x00\\x00\\x00\\x00\\x00\\xbbD1<\\xa6\\xfbF\\xaf\\xbc\\xe7>\\xa9\\xaa\\xd8\\x89\\x13x\\xcf\\xb9q+}\\x1f<D\\xc5 \\x0f\\x13\\x8aH#Q@\\x11\\x15\\x02\\xa5\\x96\\x85\\xf3\\xe2\\xd6\\xe0*\\xab4\\x02R\\xbf\\x17`C\\xdfAt\\x1f\\x14\\xd5~\\xc4p\\xc0M\\x00\\x00\\x00\\x00\\x00\\x00\\x00\\x00\\x00\\x00\\x00\\x00\\x00\\x00\\x00\\x00\\x00\\x00\\x00\\x00\\x00\\x00\\x00\\x00\\x00\\x00\\x00\\x00\\x00\\x00\\x00`\\x00\\x00\\x00\\x00\\x00\\x00\\x00\\x00\\x00\\x00\\x00\\x00\\x00\\x00\\x00\\x00\\x00\\x00\\x00\\x00\\x00\\x00\\x00\\x00\\x00\\x00\\x00\\x00\\x00\\x00\\x00\\x10\\x8aS\\x08\\xef#\\x7f\\xc5\\t\\x98\\xb6\\xa3\\xc5\\xfb\\x1d\\x82\\x95\\x00\\x00\\x00\\x00\\x00\\x00\\x00\\x00\\x00\\x00\\x00\\x00\\x00\\x00\\x00\\x00c\\xf5\\xb3\\xe2\\xce\\x9c\\xdaz\\'\\xb60x)\\x83\\x03\\xd4\\x00\\x00\\x00\\x00\\x00\\x00\\x00\\x00\\x00\\x00\\x00\\x00\\x00\\x00\\x00\\x00\\x96:\\x80\\xa3P\\xda\\xdc\\r\\xcf\\xeeZ\\x98 !I\\x94\\x00\\x00\\x00\\x00\\x00\\x00\\x00\\x00\\x00\\x00\\x00\\x00\\x00\\x00\\x00\\x00\\xa5<7\\xa4\\x9e\\x05\\xa0\\x91\\x89\\x91\\xb3\\x80e\\x90\\xb2O\\x00\\x00\\x00\\x00\\x00\\x00\\x00\\x00\\x00\\x00\\x00\\x00\\x00\\x00\\x00\\x00\\x056\\x03\\t1\\xd3\\x00\\x98:\\xdc1\\xc8\\xe1Ot.\\x00\\x00\\x00\\x00\\x00\\x00\\x00\\x00\\x00\\x00\\x00\\x00\\x00\\x00\\x00\\x00\\x1c}\\xed\\\\\\x19\\x05\\xd4\\xd3\\xcf_%\\x06\\x8f1\\x0e\\xa0\\x00\\x00\\x00\\x00\\x00\\x00\\x00\\x00\\x00\\x00\\x00\\x00\\x00\\x00\\x00\\x00\\x1fW\\xd0\\xcbu}\\x14\\x1f\\xa1\\x8a\\xe37|\\xceC \\x00\\x00\\x00\\x00\\x00\\x00\\x00\\x00\\x00\\x00\\x00\\x00\\x00\\x00\\x00\\x00\\xf7\\xf6\\xa1v\\xa1\\xb3\\x8a\\xd7y\\xd4P)Ke\\xa3\\x03\\x00\\x00\\x00\\x00\\x00\\x00\\x00\\x00\\x00\\x00\\x00\\x00\\x00\\x00\\x00\\x00\\xab\\x7f\\x7f\\x8d\\xa9\\x91@p\\x11\\xd4\\r\\x90\\x82\\x08\\x86}\\x00\\x00\\x00\\x00\\x00\\x00\\x00\\x00\\x00\\x00\\x00\\x00\\x00\\x00\\x00\\x00\\nY\\xcb\\x13*o\\xc9U\\xa0}\\xd7k\\xac\\xbc\\xc74\\x00\\x00\\x00\\x00\\x00\\x00\\x00\\x00\\x00\\x00\\x00\\x00\\x00\\x00\\x00\\x00Ro\\x97\\x18\\xf3\"h\\x1d\\xbc\\x9d\\xc8t=\\xb9J\\xd9\\x00\\x00\\x00\\x00\\x00\\x00\\x00\\x00\\x00\\x00\\x00\\x00\\x00\\x00\\x00\\x00n\\x1a(wM\\xdcfY_|J.\\x00\\x01K\\x8c\\x00\\x00\\x00\\x00\\x00\\x00\\x00\\x00\\x00\\x00\\x00\\x00\\x00\\x00\\x00\\x00\\x84\\\\\\xfe\\xc5\\xcbm\\xe0\\x15\\x8d]/\\xd0\\x17\\xdfv\\xd5\\x00\\x00\\x00\\x00\\x00\\x00\\x00\\x00\\x00\\x00\\x00\\x00\\x00\\x00\\x00\\x00hi\\x9d\\xdd\\xd0}X\\xcf\\xb8\\x11\\x9a\\xe58k\\xc3\\x1f\\x00\\x00\\x00\\x00\\x00\\x00\\x00\\x00\\x00\\x00\\x00\\x00\\x00\\x00\\x00\\x00/H{\\xf7q\\xad\\x1f$E\\x90$\\x04tMQ\\xb9\\x00\\x00\\x00\\x00\\x00\\x00\\x00\\x00\\x00\\x00\\x00\\x00\\x00\\x00\\x00\\x00\\x9f\\xc9)J\\xcc\\xb3\\xe2q\\x15@\\xef,\\xee\\xa2\\x10^\\x00\\x00\\x00\\x00\\x00\\x00\\x00\\x00\\x00\\x00\\x00\\x00\\x00\\x00\\x00\\x00'}),\n",
       " 'event': 'ConfigSet',\n",
       " 'logIndex': '',\n",
       " 'transactionIndex': '',\n",
       " 'transactionHash': '',\n",
       " 'address': '',\n",
       " 'blockHash': '',\n",
       " 'blockNumber': ''})"
      ]
     },
     "execution_count": 12,
     "metadata": {},
     "output_type": "execute_result"
    }
   ],
   "source": [
    "ConfigSet_data = '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'\n",
    "\n",
    "ConfigSet_ABI = get_event_abi(abi, 'ConfigSet')\n",
    "ConfigSet_topic = encode_hex(event_abi_to_log_topic(ConfigSet_ABI)) \n",
    "ConfigSet_event = AttributeDict({'data':ConfigSet_data\n",
    "                                ,'topics': [HexBytes(ConfigSet_topic)]\n",
    "                                ,'address':'' \n",
    "                                ,'logIndex':''\n",
    "                                ,'transactionIndex':''\n",
    "                                ,'transactionHash':''\n",
    "                                ,'blockHash':''\n",
    "                                ,'blockNumber':''\n",
    "                             \n",
    "    })\n",
    "get_event_data(default_codec, ConfigSet_ABI, ConfigSet_event) # w3.codec->default_codec if we have no rpc connection\n",
    "\n"
   ]
  },
  {
   "cell_type": "code",
   "execution_count": null,
   "id": "eeaeda66",
   "metadata": {},
   "outputs": [],
   "source": []
  }
 ],
 "metadata": {
  "kernelspec": {
   "display_name": "Python 3 (ipykernel)",
   "language": "python",
   "name": "python3"
  },
  "language_info": {
   "codemirror_mode": {
    "name": "ipython",
    "version": 3
   },
   "file_extension": ".py",
   "mimetype": "text/x-python",
   "name": "python",
   "nbconvert_exporter": "python",
   "pygments_lexer": "ipython3",
   "version": "3.8.8"
  }
 },
 "nbformat": 4,
 "nbformat_minor": 5
}
